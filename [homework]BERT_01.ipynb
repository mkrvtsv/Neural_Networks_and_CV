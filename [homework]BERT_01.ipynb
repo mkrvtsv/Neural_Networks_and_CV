{
  "nbformat": 4,
  "nbformat_minor": 0,
  "metadata": {
    "colab": {
      "name": "[homework]BERT_01.ipynb",
      "provenance": [],
      "collapsed_sections": [],
      "include_colab_link": true
    },
    "kernelspec": {
      "name": "python3",
      "display_name": "Python 3"
    },
    "accelerator": "GPU",
    "widgets": {
      "application/vnd.jupyter.widget-state+json": {
        "b81192db665443588b1f643c5a75f39e": {
          "model_module": "@jupyter-widgets/controls",
          "model_name": "HBoxModel",
          "state": {
            "_view_name": "HBoxView",
            "_dom_classes": [],
            "_model_name": "HBoxModel",
            "_view_module": "@jupyter-widgets/controls",
            "_model_module_version": "1.5.0",
            "_view_count": null,
            "_view_module_version": "1.5.0",
            "box_style": "",
            "layout": "IPY_MODEL_2b49ebc335d744b8a2def787b70f418d",
            "_model_module": "@jupyter-widgets/controls",
            "children": [
              "IPY_MODEL_36cb7633c4bc4f9083851d021eb090c7",
              "IPY_MODEL_a92a4b96959e41c390031774329f3296"
            ]
          }
        },
        "2b49ebc335d744b8a2def787b70f418d": {
          "model_module": "@jupyter-widgets/base",
          "model_name": "LayoutModel",
          "state": {
            "_view_name": "LayoutView",
            "grid_template_rows": null,
            "right": null,
            "justify_content": null,
            "_view_module": "@jupyter-widgets/base",
            "overflow": null,
            "_model_module_version": "1.2.0",
            "_view_count": null,
            "flex_flow": null,
            "width": null,
            "min_width": null,
            "border": null,
            "align_items": null,
            "bottom": null,
            "_model_module": "@jupyter-widgets/base",
            "top": null,
            "grid_column": null,
            "overflow_y": null,
            "overflow_x": null,
            "grid_auto_flow": null,
            "grid_area": null,
            "grid_template_columns": null,
            "flex": null,
            "_model_name": "LayoutModel",
            "justify_items": null,
            "grid_row": null,
            "max_height": null,
            "align_content": null,
            "visibility": null,
            "align_self": null,
            "height": null,
            "min_height": null,
            "padding": null,
            "grid_auto_rows": null,
            "grid_gap": null,
            "max_width": null,
            "order": null,
            "_view_module_version": "1.2.0",
            "grid_template_areas": null,
            "object_position": null,
            "object_fit": null,
            "grid_auto_columns": null,
            "margin": null,
            "display": null,
            "left": null
          }
        },
        "36cb7633c4bc4f9083851d021eb090c7": {
          "model_module": "@jupyter-widgets/controls",
          "model_name": "FloatProgressModel",
          "state": {
            "_view_name": "ProgressView",
            "style": "IPY_MODEL_9db0cb47c5004d7dbb3984324a0bc290",
            "_dom_classes": [],
            "description": "Downloading: 100%",
            "_model_name": "FloatProgressModel",
            "bar_style": "success",
            "max": 383,
            "_view_module": "@jupyter-widgets/controls",
            "_model_module_version": "1.5.0",
            "value": 383,
            "_view_count": null,
            "_view_module_version": "1.5.0",
            "orientation": "horizontal",
            "min": 0,
            "description_tooltip": null,
            "_model_module": "@jupyter-widgets/controls",
            "layout": "IPY_MODEL_d620740e9199486690fcc5b3955c29e0"
          }
        },
        "a92a4b96959e41c390031774329f3296": {
          "model_module": "@jupyter-widgets/controls",
          "model_name": "HTMLModel",
          "state": {
            "_view_name": "HTMLView",
            "style": "IPY_MODEL_758ae06a32614a3aaad0dbba80182211",
            "_dom_classes": [],
            "description": "",
            "_model_name": "HTMLModel",
            "placeholder": "​",
            "_view_module": "@jupyter-widgets/controls",
            "_model_module_version": "1.5.0",
            "value": " 383/383 [00:01&lt;00:00, 330B/s]",
            "_view_count": null,
            "_view_module_version": "1.5.0",
            "description_tooltip": null,
            "_model_module": "@jupyter-widgets/controls",
            "layout": "IPY_MODEL_1503626e040d4b22b730c3d537dec6e0"
          }
        },
        "9db0cb47c5004d7dbb3984324a0bc290": {
          "model_module": "@jupyter-widgets/controls",
          "model_name": "ProgressStyleModel",
          "state": {
            "_view_name": "StyleView",
            "_model_name": "ProgressStyleModel",
            "description_width": "initial",
            "_view_module": "@jupyter-widgets/base",
            "_model_module_version": "1.5.0",
            "_view_count": null,
            "_view_module_version": "1.2.0",
            "bar_color": null,
            "_model_module": "@jupyter-widgets/controls"
          }
        },
        "d620740e9199486690fcc5b3955c29e0": {
          "model_module": "@jupyter-widgets/base",
          "model_name": "LayoutModel",
          "state": {
            "_view_name": "LayoutView",
            "grid_template_rows": null,
            "right": null,
            "justify_content": null,
            "_view_module": "@jupyter-widgets/base",
            "overflow": null,
            "_model_module_version": "1.2.0",
            "_view_count": null,
            "flex_flow": null,
            "width": null,
            "min_width": null,
            "border": null,
            "align_items": null,
            "bottom": null,
            "_model_module": "@jupyter-widgets/base",
            "top": null,
            "grid_column": null,
            "overflow_y": null,
            "overflow_x": null,
            "grid_auto_flow": null,
            "grid_area": null,
            "grid_template_columns": null,
            "flex": null,
            "_model_name": "LayoutModel",
            "justify_items": null,
            "grid_row": null,
            "max_height": null,
            "align_content": null,
            "visibility": null,
            "align_self": null,
            "height": null,
            "min_height": null,
            "padding": null,
            "grid_auto_rows": null,
            "grid_gap": null,
            "max_width": null,
            "order": null,
            "_view_module_version": "1.2.0",
            "grid_template_areas": null,
            "object_position": null,
            "object_fit": null,
            "grid_auto_columns": null,
            "margin": null,
            "display": null,
            "left": null
          }
        },
        "758ae06a32614a3aaad0dbba80182211": {
          "model_module": "@jupyter-widgets/controls",
          "model_name": "DescriptionStyleModel",
          "state": {
            "_view_name": "StyleView",
            "_model_name": "DescriptionStyleModel",
            "description_width": "",
            "_view_module": "@jupyter-widgets/base",
            "_model_module_version": "1.5.0",
            "_view_count": null,
            "_view_module_version": "1.2.0",
            "_model_module": "@jupyter-widgets/controls"
          }
        },
        "1503626e040d4b22b730c3d537dec6e0": {
          "model_module": "@jupyter-widgets/base",
          "model_name": "LayoutModel",
          "state": {
            "_view_name": "LayoutView",
            "grid_template_rows": null,
            "right": null,
            "justify_content": null,
            "_view_module": "@jupyter-widgets/base",
            "overflow": null,
            "_model_module_version": "1.2.0",
            "_view_count": null,
            "flex_flow": null,
            "width": null,
            "min_width": null,
            "border": null,
            "align_items": null,
            "bottom": null,
            "_model_module": "@jupyter-widgets/base",
            "top": null,
            "grid_column": null,
            "overflow_y": null,
            "overflow_x": null,
            "grid_auto_flow": null,
            "grid_area": null,
            "grid_template_columns": null,
            "flex": null,
            "_model_name": "LayoutModel",
            "justify_items": null,
            "grid_row": null,
            "max_height": null,
            "align_content": null,
            "visibility": null,
            "align_self": null,
            "height": null,
            "min_height": null,
            "padding": null,
            "grid_auto_rows": null,
            "grid_gap": null,
            "max_width": null,
            "order": null,
            "_view_module_version": "1.2.0",
            "grid_template_areas": null,
            "object_position": null,
            "object_fit": null,
            "grid_auto_columns": null,
            "margin": null,
            "display": null,
            "left": null
          }
        },
        "403600d8d7534711a7cc89435e977ddc": {
          "model_module": "@jupyter-widgets/controls",
          "model_name": "HBoxModel",
          "state": {
            "_view_name": "HBoxView",
            "_dom_classes": [],
            "_model_name": "HBoxModel",
            "_view_module": "@jupyter-widgets/controls",
            "_model_module_version": "1.5.0",
            "_view_count": null,
            "_view_module_version": "1.5.0",
            "box_style": "",
            "layout": "IPY_MODEL_ff2765edda5c4560bc9a2e8c44284609",
            "_model_module": "@jupyter-widgets/controls",
            "children": [
              "IPY_MODEL_95de0ab48d1c4853bc9753cf8c838de2",
              "IPY_MODEL_14029f212cb14f81a225aebb2692eb80"
            ]
          }
        },
        "ff2765edda5c4560bc9a2e8c44284609": {
          "model_module": "@jupyter-widgets/base",
          "model_name": "LayoutModel",
          "state": {
            "_view_name": "LayoutView",
            "grid_template_rows": null,
            "right": null,
            "justify_content": null,
            "_view_module": "@jupyter-widgets/base",
            "overflow": null,
            "_model_module_version": "1.2.0",
            "_view_count": null,
            "flex_flow": null,
            "width": null,
            "min_width": null,
            "border": null,
            "align_items": null,
            "bottom": null,
            "_model_module": "@jupyter-widgets/base",
            "top": null,
            "grid_column": null,
            "overflow_y": null,
            "overflow_x": null,
            "grid_auto_flow": null,
            "grid_area": null,
            "grid_template_columns": null,
            "flex": null,
            "_model_name": "LayoutModel",
            "justify_items": null,
            "grid_row": null,
            "max_height": null,
            "align_content": null,
            "visibility": null,
            "align_self": null,
            "height": null,
            "min_height": null,
            "padding": null,
            "grid_auto_rows": null,
            "grid_gap": null,
            "max_width": null,
            "order": null,
            "_view_module_version": "1.2.0",
            "grid_template_areas": null,
            "object_position": null,
            "object_fit": null,
            "grid_auto_columns": null,
            "margin": null,
            "display": null,
            "left": null
          }
        },
        "95de0ab48d1c4853bc9753cf8c838de2": {
          "model_module": "@jupyter-widgets/controls",
          "model_name": "FloatProgressModel",
          "state": {
            "_view_name": "ProgressView",
            "style": "IPY_MODEL_173157f93b3646eea602e05776e77412",
            "_dom_classes": [],
            "description": "Downloading: 100%",
            "_model_name": "FloatProgressModel",
            "bar_style": "success",
            "max": 231508,
            "_view_module": "@jupyter-widgets/controls",
            "_model_module_version": "1.5.0",
            "value": 231508,
            "_view_count": null,
            "_view_module_version": "1.5.0",
            "orientation": "horizontal",
            "min": 0,
            "description_tooltip": null,
            "_model_module": "@jupyter-widgets/controls",
            "layout": "IPY_MODEL_7c31796dc5454307a5a44d1603516d7a"
          }
        },
        "14029f212cb14f81a225aebb2692eb80": {
          "model_module": "@jupyter-widgets/controls",
          "model_name": "HTMLModel",
          "state": {
            "_view_name": "HTMLView",
            "style": "IPY_MODEL_1fc88a59622342a097af21f9518980e8",
            "_dom_classes": [],
            "description": "",
            "_model_name": "HTMLModel",
            "placeholder": "​",
            "_view_module": "@jupyter-widgets/controls",
            "_model_module_version": "1.5.0",
            "value": " 232k/232k [00:01&lt;00:00, 164kB/s]",
            "_view_count": null,
            "_view_module_version": "1.5.0",
            "description_tooltip": null,
            "_model_module": "@jupyter-widgets/controls",
            "layout": "IPY_MODEL_403f2e69d91744c88c711f80e0ad4bc6"
          }
        },
        "173157f93b3646eea602e05776e77412": {
          "model_module": "@jupyter-widgets/controls",
          "model_name": "ProgressStyleModel",
          "state": {
            "_view_name": "StyleView",
            "_model_name": "ProgressStyleModel",
            "description_width": "initial",
            "_view_module": "@jupyter-widgets/base",
            "_model_module_version": "1.5.0",
            "_view_count": null,
            "_view_module_version": "1.2.0",
            "bar_color": null,
            "_model_module": "@jupyter-widgets/controls"
          }
        },
        "7c31796dc5454307a5a44d1603516d7a": {
          "model_module": "@jupyter-widgets/base",
          "model_name": "LayoutModel",
          "state": {
            "_view_name": "LayoutView",
            "grid_template_rows": null,
            "right": null,
            "justify_content": null,
            "_view_module": "@jupyter-widgets/base",
            "overflow": null,
            "_model_module_version": "1.2.0",
            "_view_count": null,
            "flex_flow": null,
            "width": null,
            "min_width": null,
            "border": null,
            "align_items": null,
            "bottom": null,
            "_model_module": "@jupyter-widgets/base",
            "top": null,
            "grid_column": null,
            "overflow_y": null,
            "overflow_x": null,
            "grid_auto_flow": null,
            "grid_area": null,
            "grid_template_columns": null,
            "flex": null,
            "_model_name": "LayoutModel",
            "justify_items": null,
            "grid_row": null,
            "max_height": null,
            "align_content": null,
            "visibility": null,
            "align_self": null,
            "height": null,
            "min_height": null,
            "padding": null,
            "grid_auto_rows": null,
            "grid_gap": null,
            "max_width": null,
            "order": null,
            "_view_module_version": "1.2.0",
            "grid_template_areas": null,
            "object_position": null,
            "object_fit": null,
            "grid_auto_columns": null,
            "margin": null,
            "display": null,
            "left": null
          }
        },
        "1fc88a59622342a097af21f9518980e8": {
          "model_module": "@jupyter-widgets/controls",
          "model_name": "DescriptionStyleModel",
          "state": {
            "_view_name": "StyleView",
            "_model_name": "DescriptionStyleModel",
            "description_width": "",
            "_view_module": "@jupyter-widgets/base",
            "_model_module_version": "1.5.0",
            "_view_count": null,
            "_view_module_version": "1.2.0",
            "_model_module": "@jupyter-widgets/controls"
          }
        },
        "403f2e69d91744c88c711f80e0ad4bc6": {
          "model_module": "@jupyter-widgets/base",
          "model_name": "LayoutModel",
          "state": {
            "_view_name": "LayoutView",
            "grid_template_rows": null,
            "right": null,
            "justify_content": null,
            "_view_module": "@jupyter-widgets/base",
            "overflow": null,
            "_model_module_version": "1.2.0",
            "_view_count": null,
            "flex_flow": null,
            "width": null,
            "min_width": null,
            "border": null,
            "align_items": null,
            "bottom": null,
            "_model_module": "@jupyter-widgets/base",
            "top": null,
            "grid_column": null,
            "overflow_y": null,
            "overflow_x": null,
            "grid_auto_flow": null,
            "grid_area": null,
            "grid_template_columns": null,
            "flex": null,
            "_model_name": "LayoutModel",
            "justify_items": null,
            "grid_row": null,
            "max_height": null,
            "align_content": null,
            "visibility": null,
            "align_self": null,
            "height": null,
            "min_height": null,
            "padding": null,
            "grid_auto_rows": null,
            "grid_gap": null,
            "max_width": null,
            "order": null,
            "_view_module_version": "1.2.0",
            "grid_template_areas": null,
            "object_position": null,
            "object_fit": null,
            "grid_auto_columns": null,
            "margin": null,
            "display": null,
            "left": null
          }
        },
        "4140daee3edf439ab59086ccffbe8c18": {
          "model_module": "@jupyter-widgets/controls",
          "model_name": "HBoxModel",
          "state": {
            "_view_name": "HBoxView",
            "_dom_classes": [],
            "_model_name": "HBoxModel",
            "_view_module": "@jupyter-widgets/controls",
            "_model_module_version": "1.5.0",
            "_view_count": null,
            "_view_module_version": "1.5.0",
            "box_style": "",
            "layout": "IPY_MODEL_d0f38b58ee424a3cbf1c4d4b26b2209d",
            "_model_module": "@jupyter-widgets/controls",
            "children": [
              "IPY_MODEL_5b50cd85ad9e40e0b446c2e50fb1fd8f",
              "IPY_MODEL_8c5df53bd71e4133a9f1b7c05ebcc94e"
            ]
          }
        },
        "d0f38b58ee424a3cbf1c4d4b26b2209d": {
          "model_module": "@jupyter-widgets/base",
          "model_name": "LayoutModel",
          "state": {
            "_view_name": "LayoutView",
            "grid_template_rows": null,
            "right": null,
            "justify_content": null,
            "_view_module": "@jupyter-widgets/base",
            "overflow": null,
            "_model_module_version": "1.2.0",
            "_view_count": null,
            "flex_flow": null,
            "width": null,
            "min_width": null,
            "border": null,
            "align_items": null,
            "bottom": null,
            "_model_module": "@jupyter-widgets/base",
            "top": null,
            "grid_column": null,
            "overflow_y": null,
            "overflow_x": null,
            "grid_auto_flow": null,
            "grid_area": null,
            "grid_template_columns": null,
            "flex": null,
            "_model_name": "LayoutModel",
            "justify_items": null,
            "grid_row": null,
            "max_height": null,
            "align_content": null,
            "visibility": null,
            "align_self": null,
            "height": null,
            "min_height": null,
            "padding": null,
            "grid_auto_rows": null,
            "grid_gap": null,
            "max_width": null,
            "order": null,
            "_view_module_version": "1.2.0",
            "grid_template_areas": null,
            "object_position": null,
            "object_fit": null,
            "grid_auto_columns": null,
            "margin": null,
            "display": null,
            "left": null
          }
        },
        "5b50cd85ad9e40e0b446c2e50fb1fd8f": {
          "model_module": "@jupyter-widgets/controls",
          "model_name": "FloatProgressModel",
          "state": {
            "_view_name": "ProgressView",
            "style": "IPY_MODEL_c86eb909823a418caad99d31f4afe428",
            "_dom_classes": [],
            "description": "Downloading: 100%",
            "_model_name": "FloatProgressModel",
            "bar_style": "success",
            "max": 45088961,
            "_view_module": "@jupyter-widgets/controls",
            "_model_module_version": "1.5.0",
            "value": 45088961,
            "_view_count": null,
            "_view_module_version": "1.5.0",
            "orientation": "horizontal",
            "min": 0,
            "description_tooltip": null,
            "_model_module": "@jupyter-widgets/controls",
            "layout": "IPY_MODEL_77b40cd88a73435aaf987ab2a3b3e977"
          }
        },
        "8c5df53bd71e4133a9f1b7c05ebcc94e": {
          "model_module": "@jupyter-widgets/controls",
          "model_name": "HTMLModel",
          "state": {
            "_view_name": "HTMLView",
            "style": "IPY_MODEL_e4f4047414d74a13bb7133db289c492f",
            "_dom_classes": [],
            "description": "",
            "_model_name": "HTMLModel",
            "placeholder": "​",
            "_view_module": "@jupyter-widgets/controls",
            "_model_module_version": "1.5.0",
            "value": " 45.1M/45.1M [00:01&lt;00:00, 28.7MB/s]",
            "_view_count": null,
            "_view_module_version": "1.5.0",
            "description_tooltip": null,
            "_model_module": "@jupyter-widgets/controls",
            "layout": "IPY_MODEL_738f9f79caba4caa9d2db77a3de4e3f2"
          }
        },
        "c86eb909823a418caad99d31f4afe428": {
          "model_module": "@jupyter-widgets/controls",
          "model_name": "ProgressStyleModel",
          "state": {
            "_view_name": "StyleView",
            "_model_name": "ProgressStyleModel",
            "description_width": "initial",
            "_view_module": "@jupyter-widgets/base",
            "_model_module_version": "1.5.0",
            "_view_count": null,
            "_view_module_version": "1.2.0",
            "bar_color": null,
            "_model_module": "@jupyter-widgets/controls"
          }
        },
        "77b40cd88a73435aaf987ab2a3b3e977": {
          "model_module": "@jupyter-widgets/base",
          "model_name": "LayoutModel",
          "state": {
            "_view_name": "LayoutView",
            "grid_template_rows": null,
            "right": null,
            "justify_content": null,
            "_view_module": "@jupyter-widgets/base",
            "overflow": null,
            "_model_module_version": "1.2.0",
            "_view_count": null,
            "flex_flow": null,
            "width": null,
            "min_width": null,
            "border": null,
            "align_items": null,
            "bottom": null,
            "_model_module": "@jupyter-widgets/base",
            "top": null,
            "grid_column": null,
            "overflow_y": null,
            "overflow_x": null,
            "grid_auto_flow": null,
            "grid_area": null,
            "grid_template_columns": null,
            "flex": null,
            "_model_name": "LayoutModel",
            "justify_items": null,
            "grid_row": null,
            "max_height": null,
            "align_content": null,
            "visibility": null,
            "align_self": null,
            "height": null,
            "min_height": null,
            "padding": null,
            "grid_auto_rows": null,
            "grid_gap": null,
            "max_width": null,
            "order": null,
            "_view_module_version": "1.2.0",
            "grid_template_areas": null,
            "object_position": null,
            "object_fit": null,
            "grid_auto_columns": null,
            "margin": null,
            "display": null,
            "left": null
          }
        },
        "e4f4047414d74a13bb7133db289c492f": {
          "model_module": "@jupyter-widgets/controls",
          "model_name": "DescriptionStyleModel",
          "state": {
            "_view_name": "StyleView",
            "_model_name": "DescriptionStyleModel",
            "description_width": "",
            "_view_module": "@jupyter-widgets/base",
            "_model_module_version": "1.5.0",
            "_view_count": null,
            "_view_module_version": "1.2.0",
            "_model_module": "@jupyter-widgets/controls"
          }
        },
        "738f9f79caba4caa9d2db77a3de4e3f2": {
          "model_module": "@jupyter-widgets/base",
          "model_name": "LayoutModel",
          "state": {
            "_view_name": "LayoutView",
            "grid_template_rows": null,
            "right": null,
            "justify_content": null,
            "_view_module": "@jupyter-widgets/base",
            "overflow": null,
            "_model_module_version": "1.2.0",
            "_view_count": null,
            "flex_flow": null,
            "width": null,
            "min_width": null,
            "border": null,
            "align_items": null,
            "bottom": null,
            "_model_module": "@jupyter-widgets/base",
            "top": null,
            "grid_column": null,
            "overflow_y": null,
            "overflow_x": null,
            "grid_auto_flow": null,
            "grid_area": null,
            "grid_template_columns": null,
            "flex": null,
            "_model_name": "LayoutModel",
            "justify_items": null,
            "grid_row": null,
            "max_height": null,
            "align_content": null,
            "visibility": null,
            "align_self": null,
            "height": null,
            "min_height": null,
            "padding": null,
            "grid_auto_rows": null,
            "grid_gap": null,
            "max_width": null,
            "order": null,
            "_view_module_version": "1.2.0",
            "grid_template_areas": null,
            "object_position": null,
            "object_fit": null,
            "grid_auto_columns": null,
            "margin": null,
            "display": null,
            "left": null
          }
        }
      }
    }
  },
  "cells": [
    {
      "cell_type": "markdown",
      "metadata": {
        "id": "view-in-github",
        "colab_type": "text"
      },
      "source": [
        "<a href=\"https://colab.research.google.com/github/mkrvtsv/Neural_Networks_and_CV/blob/master/%5Bhomework%5DBERT_01.ipynb\" target=\"_parent\"><img src=\"https://colab.research.google.com/assets/colab-badge.svg\" alt=\"Open In Colab\"/></a>"
      ]
    },
    {
      "cell_type": "markdown",
      "metadata": {
        "id": "VO_wCxS951bT",
        "colab_type": "text"
      },
      "source": [
        "# Homework\n",
        "\n",
        "Привет! В этой домашнем задании ты научишься обучении модели BERT. На семинаре был разобран код модели, здесь же посмотрим на то, как надо обработать данные, чтобы на них модель могла учиться. \n",
        "\n",
        "Замечания по выполнению задания:\n",
        "\n",
        "- Код внутри блока `<DON'T TOUCH THIS!>` используется для проверки задания, его нельзя трогать. \n",
        "\n",
        "- Внутри блока `<YOUR CODE>` может больше кода, чем там показано изначально.\n",
        "\n",
        "- От задания требуется написания небольшого отчета в конце.\n",
        "\n",
        "\n",
        "Для начала загрузи нужные библиотеки."
      ]
    },
    {
      "cell_type": "code",
      "metadata": {
        "id": "4dq4NkRu_u3i",
        "colab_type": "code",
        "outputId": "d914efef-843e-4642-b9a8-de4e497e553a",
        "colab": {
          "base_uri": "https://localhost:8080/",
          "height": 1000
        }
      },
      "source": [
        "!pip install transformers catalyst\n"
      ],
      "execution_count": 0,
      "outputs": [
        {
          "output_type": "stream",
          "text": [
            "Requirement already satisfied: transformers in /usr/local/lib/python3.6/dist-packages (2.9.0)\n",
            "Requirement already satisfied: catalyst in /usr/local/lib/python3.6/dist-packages (20.5)\n",
            "Requirement already satisfied: requests in /usr/local/lib/python3.6/dist-packages (from transformers) (2.23.0)\n",
            "Requirement already satisfied: dataclasses; python_version < \"3.7\" in /usr/local/lib/python3.6/dist-packages (from transformers) (0.7)\n",
            "Requirement already satisfied: tqdm>=4.27 in /usr/local/lib/python3.6/dist-packages (from transformers) (4.41.1)\n",
            "Requirement already satisfied: tokenizers==0.7.0 in /usr/local/lib/python3.6/dist-packages (from transformers) (0.7.0)\n",
            "Requirement already satisfied: regex!=2019.12.17 in /usr/local/lib/python3.6/dist-packages (from transformers) (2019.12.20)\n",
            "Requirement already satisfied: numpy in /usr/local/lib/python3.6/dist-packages (from transformers) (1.18.4)\n",
            "Requirement already satisfied: sentencepiece in /usr/local/lib/python3.6/dist-packages (from transformers) (0.1.86)\n",
            "Requirement already satisfied: sacremoses in /usr/local/lib/python3.6/dist-packages (from transformers) (0.0.43)\n",
            "Requirement already satisfied: filelock in /usr/local/lib/python3.6/dist-packages (from transformers) (3.0.12)\n",
            "Requirement already satisfied: matplotlib in /usr/local/lib/python3.6/dist-packages (from catalyst) (3.2.1)\n",
            "Requirement already satisfied: deprecation in /usr/local/lib/python3.6/dist-packages (from catalyst) (2.1.0)\n",
            "Requirement already satisfied: ipython in /usr/local/lib/python3.6/dist-packages (from catalyst) (5.5.0)\n",
            "Requirement already satisfied: torch>=1.1.0 in /usr/local/lib/python3.6/dist-packages (from catalyst) (1.5.0+cu101)\n",
            "Requirement already satisfied: PyYAML in /usr/local/lib/python3.6/dist-packages (from catalyst) (3.13)\n",
            "Requirement already satisfied: tensorboard>=1.14.0 in /usr/local/lib/python3.6/dist-packages (from catalyst) (2.2.1)\n",
            "Requirement already satisfied: GitPython>=3.1.1 in /usr/local/lib/python3.6/dist-packages (from catalyst) (3.1.2)\n",
            "Requirement already satisfied: packaging in /usr/local/lib/python3.6/dist-packages (from catalyst) (20.3)\n",
            "Requirement already satisfied: tensorboardX in /usr/local/lib/python3.6/dist-packages (from catalyst) (2.0)\n",
            "Requirement already satisfied: plotly>=4.1.0 in /usr/local/lib/python3.6/dist-packages (from catalyst) (4.4.1)\n",
            "Requirement already satisfied: pandas>=0.22 in /usr/local/lib/python3.6/dist-packages (from catalyst) (1.0.3)\n",
            "Requirement already satisfied: crc32c>=1.7 in /usr/local/lib/python3.6/dist-packages (from catalyst) (2.0)\n",
            "Requirement already satisfied: scikit-learn>=0.20 in /usr/local/lib/python3.6/dist-packages (from catalyst) (0.22.2.post1)\n",
            "Requirement already satisfied: chardet<4,>=3.0.2 in /usr/local/lib/python3.6/dist-packages (from requests->transformers) (3.0.4)\n",
            "Requirement already satisfied: urllib3!=1.25.0,!=1.25.1,<1.26,>=1.21.1 in /usr/local/lib/python3.6/dist-packages (from requests->transformers) (1.24.3)\n",
            "Requirement already satisfied: certifi>=2017.4.17 in /usr/local/lib/python3.6/dist-packages (from requests->transformers) (2020.4.5.1)\n",
            "Requirement already satisfied: idna<3,>=2.5 in /usr/local/lib/python3.6/dist-packages (from requests->transformers) (2.9)\n",
            "Requirement already satisfied: click in /usr/local/lib/python3.6/dist-packages (from sacremoses->transformers) (7.1.2)\n",
            "Requirement already satisfied: joblib in /usr/local/lib/python3.6/dist-packages (from sacremoses->transformers) (0.14.1)\n",
            "Requirement already satisfied: six in /usr/local/lib/python3.6/dist-packages (from sacremoses->transformers) (1.12.0)\n",
            "Requirement already satisfied: kiwisolver>=1.0.1 in /usr/local/lib/python3.6/dist-packages (from matplotlib->catalyst) (1.2.0)\n",
            "Requirement already satisfied: pyparsing!=2.0.4,!=2.1.2,!=2.1.6,>=2.0.1 in /usr/local/lib/python3.6/dist-packages (from matplotlib->catalyst) (2.4.7)\n",
            "Requirement already satisfied: cycler>=0.10 in /usr/local/lib/python3.6/dist-packages (from matplotlib->catalyst) (0.10.0)\n",
            "Requirement already satisfied: python-dateutil>=2.1 in /usr/local/lib/python3.6/dist-packages (from matplotlib->catalyst) (2.8.1)\n",
            "Requirement already satisfied: setuptools>=18.5 in /usr/local/lib/python3.6/dist-packages (from ipython->catalyst) (46.1.3)\n",
            "Requirement already satisfied: pexpect; sys_platform != \"win32\" in /usr/local/lib/python3.6/dist-packages (from ipython->catalyst) (4.8.0)\n",
            "Requirement already satisfied: pygments in /usr/local/lib/python3.6/dist-packages (from ipython->catalyst) (2.1.3)\n",
            "Requirement already satisfied: simplegeneric>0.8 in /usr/local/lib/python3.6/dist-packages (from ipython->catalyst) (0.8.1)\n",
            "Requirement already satisfied: traitlets>=4.2 in /usr/local/lib/python3.6/dist-packages (from ipython->catalyst) (4.3.3)\n",
            "Requirement already satisfied: pickleshare in /usr/local/lib/python3.6/dist-packages (from ipython->catalyst) (0.7.5)\n",
            "Requirement already satisfied: decorator in /usr/local/lib/python3.6/dist-packages (from ipython->catalyst) (4.4.2)\n",
            "Requirement already satisfied: prompt-toolkit<2.0.0,>=1.0.4 in /usr/local/lib/python3.6/dist-packages (from ipython->catalyst) (1.0.18)\n",
            "Requirement already satisfied: future in /usr/local/lib/python3.6/dist-packages (from torch>=1.1.0->catalyst) (0.16.0)\n",
            "Requirement already satisfied: absl-py>=0.4 in /usr/local/lib/python3.6/dist-packages (from tensorboard>=1.14.0->catalyst) (0.9.0)\n",
            "Requirement already satisfied: markdown>=2.6.8 in /usr/local/lib/python3.6/dist-packages (from tensorboard>=1.14.0->catalyst) (3.2.1)\n",
            "Requirement already satisfied: werkzeug>=0.11.15 in /usr/local/lib/python3.6/dist-packages (from tensorboard>=1.14.0->catalyst) (1.0.1)\n",
            "Requirement already satisfied: wheel>=0.26; python_version >= \"3\" in /usr/local/lib/python3.6/dist-packages (from tensorboard>=1.14.0->catalyst) (0.34.2)\n",
            "Requirement already satisfied: google-auth<2,>=1.6.3 in /usr/local/lib/python3.6/dist-packages (from tensorboard>=1.14.0->catalyst) (1.7.2)\n",
            "Requirement already satisfied: protobuf>=3.6.0 in /usr/local/lib/python3.6/dist-packages (from tensorboard>=1.14.0->catalyst) (3.10.0)\n",
            "Requirement already satisfied: grpcio>=1.24.3 in /usr/local/lib/python3.6/dist-packages (from tensorboard>=1.14.0->catalyst) (1.28.1)\n",
            "Requirement already satisfied: google-auth-oauthlib<0.5,>=0.4.1 in /usr/local/lib/python3.6/dist-packages (from tensorboard>=1.14.0->catalyst) (0.4.1)\n",
            "Requirement already satisfied: tensorboard-plugin-wit>=1.6.0 in /usr/local/lib/python3.6/dist-packages (from tensorboard>=1.14.0->catalyst) (1.6.0.post3)\n",
            "Requirement already satisfied: gitdb<5,>=4.0.1 in /usr/local/lib/python3.6/dist-packages (from GitPython>=3.1.1->catalyst) (4.0.5)\n",
            "Requirement already satisfied: retrying>=1.3.3 in /usr/local/lib/python3.6/dist-packages (from plotly>=4.1.0->catalyst) (1.3.3)\n",
            "Requirement already satisfied: pytz>=2017.2 in /usr/local/lib/python3.6/dist-packages (from pandas>=0.22->catalyst) (2018.9)\n",
            "Requirement already satisfied: scipy>=0.17.0 in /usr/local/lib/python3.6/dist-packages (from scikit-learn>=0.20->catalyst) (1.4.1)\n",
            "Requirement already satisfied: ptyprocess>=0.5 in /usr/local/lib/python3.6/dist-packages (from pexpect; sys_platform != \"win32\"->ipython->catalyst) (0.6.0)\n",
            "Requirement already satisfied: ipython-genutils in /usr/local/lib/python3.6/dist-packages (from traitlets>=4.2->ipython->catalyst) (0.2.0)\n",
            "Requirement already satisfied: wcwidth in /usr/local/lib/python3.6/dist-packages (from prompt-toolkit<2.0.0,>=1.0.4->ipython->catalyst) (0.1.9)\n",
            "Requirement already satisfied: cachetools<3.2,>=2.0.0 in /usr/local/lib/python3.6/dist-packages (from google-auth<2,>=1.6.3->tensorboard>=1.14.0->catalyst) (3.1.1)\n",
            "Requirement already satisfied: rsa<4.1,>=3.1.4 in /usr/local/lib/python3.6/dist-packages (from google-auth<2,>=1.6.3->tensorboard>=1.14.0->catalyst) (4.0)\n",
            "Requirement already satisfied: pyasn1-modules>=0.2.1 in /usr/local/lib/python3.6/dist-packages (from google-auth<2,>=1.6.3->tensorboard>=1.14.0->catalyst) (0.2.8)\n",
            "Requirement already satisfied: requests-oauthlib>=0.7.0 in /usr/local/lib/python3.6/dist-packages (from google-auth-oauthlib<0.5,>=0.4.1->tensorboard>=1.14.0->catalyst) (1.3.0)\n",
            "Requirement already satisfied: smmap<4,>=3.0.1 in /usr/local/lib/python3.6/dist-packages (from gitdb<5,>=4.0.1->GitPython>=3.1.1->catalyst) (3.0.4)\n",
            "Requirement already satisfied: pyasn1>=0.1.3 in /usr/local/lib/python3.6/dist-packages (from rsa<4.1,>=3.1.4->google-auth<2,>=1.6.3->tensorboard>=1.14.0->catalyst) (0.4.8)\n",
            "Requirement already satisfied: oauthlib>=3.0.0 in /usr/local/lib/python3.6/dist-packages (from requests-oauthlib>=0.7.0->google-auth-oauthlib<0.5,>=0.4.1->tensorboard>=1.14.0->catalyst) (3.1.0)\n"
          ],
          "name": "stdout"
        }
      ]
    },
    {
      "cell_type": "code",
      "metadata": {
        "id": "XlHnoGZN6OKy",
        "colab_type": "code",
        "outputId": "497f1398-9d94-419d-d1c7-ee3ec578400b",
        "colab": {
          "base_uri": "https://localhost:8080/",
          "height": 225
        }
      },
      "source": [
        "import os\n",
        "import random\n",
        "import sys\n",
        "import urllib.request\n",
        "import zipfile\n",
        "\n",
        "import numpy as np\n",
        "import pandas as pd\n",
        "from tqdm import tqdm, trange\n",
        "\n",
        "import torch\n",
        "from torch import nn\n",
        "import torch.nn.functional as F\n",
        "from torch.utils.data import DataLoader, RandomSampler, Dataset\n",
        "\n",
        "import transformers\n",
        "\n",
        "from catalyst.dl import SupervisedRunner\n",
        "from catalyst.dl.callbacks import AccuracyCallback, SchedulerCallback, F1ScoreCallback\n",
        "from catalyst.utils import set_global_seed, prepare_cudnn\n"
      ],
      "execution_count": 0,
      "outputs": [
        {
          "output_type": "stream",
          "text": [
            "/usr/lib/python3.6/importlib/_bootstrap.py:219: RuntimeWarning:\n",
            "\n",
            "numpy.ufunc size changed, may indicate binary incompatibility. Expected 192 from C header, got 216 from PyObject\n",
            "\n",
            "/usr/lib/python3.6/importlib/_bootstrap.py:219: RuntimeWarning:\n",
            "\n",
            "numpy.ufunc size changed, may indicate binary incompatibility. Expected 192 from C header, got 216 from PyObject\n",
            "\n",
            "/usr/lib/python3.6/importlib/_bootstrap.py:219: RuntimeWarning:\n",
            "\n",
            "numpy.ufunc size changed, may indicate binary incompatibility. Expected 192 from C header, got 216 from PyObject\n",
            "\n"
          ],
          "name": "stderr"
        }
      ]
    },
    {
      "cell_type": "markdown",
      "metadata": {
        "id": "TmlqBOSO7a5L",
        "colab_type": "text"
      },
      "source": [
        "Внизу идет технический код, который нужен для загрузки датасетов. Его можно уменьшить, выбрав только некоторые из них. Для того, что бы зачесть задание, надо выбрать не менее двух задач, для хотя бы одной из которых нужно использовать два предложения(ответ и вопрос, два предложения и прочее). Подробнее про датасеты [здесь](https://gluebenchmark.com/)."
      ]
    },
    {
      "cell_type": "code",
      "metadata": {
        "colab_type": "code",
        "id": "4H6_6zgnfRQR",
        "colab": {}
      },
      "source": [
        "TASKS = [\"CoLA\", \"SST\", \"MRPC\", \"QQP\", \"STS\", \"MNLI\", \"SNLI\", \"QNLI\", \"RTE\", \"WNLI\"]\n",
        "TASK2PATH = {\n",
        "    \"CoLA\": \"https://firebasestorage.googleapis.com/v0/b/mtl-sentence-representations.appspot.com/o/data%2FCoLA.zip?alt=media&token=46d5e637-3411-4188-bc44-5809b5bfb5f4\",\n",
        "    \"SST\": \"https://firebasestorage.googleapis.com/v0/b/mtl-sentence-representations.appspot.com/o/data%2FSST-2.zip?alt=media&token=aabc5f6b-e466-44a2-b9b4-cf6337f84ac8\",\n",
        "    \"MRPC\": \"https://firebasestorage.googleapis.com/v0/b/mtl-sentence-representations.appspot.com/o/data%2Fmrpc_dev_ids.tsv?alt=media&token=ec5c0836-31d5-48f4-b431-7480817f1adc\",\n",
        "    \"QQP\": \"https://firebasestorage.googleapis.com/v0/b/mtl-sentence-representations.appspot.com/o/data%2FQQP.zip?alt=media&token=700c6acf-160d-4d89-81d1-de4191d02cb5\",\n",
        "    \"STS\": \"https://firebasestorage.googleapis.com/v0/b/mtl-sentence-representations.appspot.com/o/data%2FSTS-B.zip?alt=media&token=bddb94a7-8706-4e0d-a694-1109e12273b5\",\n",
        "    \"MNLI\": \"https://firebasestorage.googleapis.com/v0/b/mtl-sentence-representations.appspot.com/o/data%2FMNLI.zip?alt=media&token=50329ea1-e339-40e2-809c-10c40afff3ce\",\n",
        "    \"SNLI\": \"https://firebasestorage.googleapis.com/v0/b/mtl-sentence-representations.appspot.com/o/data%2FSNLI.zip?alt=media&token=4afcfbb2-ff0c-4b2d-a09a-dbf07926f4df\",\n",
        "    \"QNLI\": \"https://firebasestorage.googleapis.com/v0/b/mtl-sentence-representations.appspot.com/o/data%2FQNLIv2.zip?alt=media&token=6fdcf570-0fc5-4631-8456-9505272d1601\",\n",
        "    \"RTE\": \"https://firebasestorage.googleapis.com/v0/b/mtl-sentence-representations.appspot.com/o/data%2FRTE.zip?alt=media&token=5efa7e85-a0bb-4f19-8ea2-9e1840f077fb\",\n",
        "    \"WNLI\": \"https://firebasestorage.googleapis.com/v0/b/mtl-sentence-representations.appspot.com/o/data%2FWNLI.zip?alt=media&token=068ad0a0-ded7-4bd7-99a5-5e00222e0faf\",\n",
        "}\n",
        "\n",
        "MRPC_TRAIN = \"https://dl.fbaipublicfiles.com/senteval/senteval_data/msr_paraphrase_train.txt\"\n",
        "MRPC_TEST = \"https://dl.fbaipublicfiles.com/senteval/senteval_data/msr_paraphrase_test.txt\"\n",
        "\n",
        "data_dir = \"data/\"\n",
        "max_seq_length = 128\n"
      ],
      "execution_count": 0,
      "outputs": []
    },
    {
      "cell_type": "code",
      "metadata": {
        "id": "4O8Y-go7czun",
        "colab_type": "code",
        "colab": {}
      },
      "source": [
        "def download_and_extract(task, data_dir):\n",
        "    print(\"Downloading and extracting %s...\" % task)\n",
        "    data_file = \"%s.zip\" % task\n",
        "    urllib.request.urlretrieve(TASK2PATH[task], data_file)\n",
        "    with zipfile.ZipFile(data_file) as zip_ref:\n",
        "        zip_ref.extractall(data_dir)\n",
        "    os.remove(data_file)\n",
        "    print(\"\\tCompleted!\")\n",
        "\n",
        "def format_mrpc(data_dir, path_to_data):\n",
        "    print(\"Processing MRPC...\")\n",
        "    mrpc_dir = os.path.join(data_dir, \"MRPC\")\n",
        "    if not os.path.isdir(mrpc_dir):\n",
        "        os.mkdir(mrpc_dir)\n",
        "    if path_to_data:\n",
        "        mrpc_train_file = os.path.join(path_to_data, \"msr_paraphrase_train.txt\")\n",
        "        mrpc_test_file = os.path.join(path_to_data, \"msr_paraphrase_test.txt\")\n",
        "    else:\n",
        "        print(\"Local MRPC data not specified, downloading data from %s\" % MRPC_TRAIN)\n",
        "        mrpc_train_file = os.path.join(mrpc_dir, \"msr_paraphrase_train.txt\")\n",
        "        mrpc_test_file = os.path.join(mrpc_dir, \"msr_paraphrase_test.txt\")\n",
        "        urllib.request.urlretrieve(MRPC_TRAIN, mrpc_train_file)\n",
        "        urllib.request.urlretrieve(MRPC_TEST, mrpc_test_file)\n",
        "    assert os.path.isfile(mrpc_train_file), \"Train data not found at %s\" % mrpc_train_file\n",
        "    assert os.path.isfile(mrpc_test_file), \"Test data not found at %s\" % mrpc_test_file\n",
        "    urllib.request.urlretrieve(TASK2PATH[\"MRPC\"], os.path.join(mrpc_dir, \"dev_ids.tsv\"))\n",
        "\n",
        "    dev_ids = []\n",
        "    with open(os.path.join(mrpc_dir, \"dev_ids.tsv\"), encoding=\"utf8\") as ids_fh:\n",
        "        for row in ids_fh:\n",
        "            dev_ids.append(row.strip().split(\"\\t\"))\n",
        "\n",
        "    with open(mrpc_train_file, encoding=\"utf8\") as data_fh, open(\n",
        "        os.path.join(mrpc_dir, \"train.tsv\"), \"w\", encoding=\"utf8\"\n",
        "    ) as train_fh, open(os.path.join(mrpc_dir, \"dev.tsv\"), \"w\", encoding=\"utf8\") as dev_fh:\n",
        "        header = data_fh.readline()\n",
        "        train_fh.write(header)\n",
        "        dev_fh.write(header)\n",
        "        for row in data_fh:\n",
        "            label, id1, id2, s1, s2 = row.strip().split(\"\\t\")\n",
        "            if [id1, id2] in dev_ids:\n",
        "                dev_fh.write(\"%s\\t%s\\t%s\\t%s\\t%s\\n\" % (label, id1, id2, s1, s2))\n",
        "            else:\n",
        "                train_fh.write(\"%s\\t%s\\t%s\\t%s\\t%s\\n\" % (label, id1, id2, s1, s2))\n",
        "\n",
        "    with open(mrpc_test_file, encoding=\"utf8\") as data_fh, open(\n",
        "        os.path.join(mrpc_dir, \"test.tsv\"), \"w\", encoding=\"utf8\"\n",
        "    ) as test_fh:\n",
        "        header = data_fh.readline()\n",
        "        test_fh.write(\"index\\t#1 ID\\t#2 ID\\t#1 String\\t#2 String\\n\")\n",
        "        for idx, row in enumerate(data_fh):\n",
        "            label, id1, id2, s1, s2 = row.strip().split(\"\\t\")\n",
        "            test_fh.write(\"%d\\t%s\\t%s\\t%s\\t%s\\n\" % (idx, id1, id2, s1, s2))\n",
        "    print(\"\\tCompleted!\")\n",
        "    "
      ],
      "execution_count": 0,
      "outputs": []
    },
    {
      "cell_type": "code",
      "metadata": {
        "id": "M4hNWuZ5okuj",
        "colab_type": "code",
        "outputId": "44d8e0d4-b3f5-4149-97de-80f9f74fcc70",
        "colab": {
          "base_uri": "https://localhost:8080/",
          "height": 86
        }
      },
      "source": [
        "TASKS = ['RTE', 'SST'] # Или можно просто сюда вписать те датасеты, которые ты выбрал.\n",
        "\n",
        "for task in TASKS:\n",
        "    if task == \"MRPC\":\n",
        "        format_mrpc(data_dir, None)\n",
        "    else:\n",
        "        download_and_extract(task, data_dir)\n",
        "        "
      ],
      "execution_count": 0,
      "outputs": [
        {
          "output_type": "stream",
          "text": [
            "Downloading and extracting RTE...\n",
            "\tCompleted!\n",
            "Downloading and extracting SST...\n",
            "\tCompleted!\n"
          ],
          "name": "stdout"
        }
      ]
    },
    {
      "cell_type": "code",
      "metadata": {
        "id": "UN_uDaDmDL1-",
        "colab_type": "code",
        "outputId": "5bd5f887-53d1-4034-dc5c-4800efc11912",
        "colab": {
          "base_uri": "https://localhost:8080/",
          "height": 34
        }
      },
      "source": [
        "!ls ./data/RTE\n"
      ],
      "execution_count": 0,
      "outputs": [
        {
          "output_type": "stream",
          "text": [
            "dev.tsv  test.tsv  train.tsv\n"
          ],
          "name": "stdout"
        }
      ]
    },
    {
      "cell_type": "markdown",
      "metadata": {
        "id": "q5S3iSoK8LOG",
        "colab_type": "text"
      },
      "source": [
        "Загрузи один из выбранных датасет с помощью Pandas(не обязательно через него, но так проще) и посмотри на него."
      ]
    },
    {
      "cell_type": "code",
      "metadata": {
        "id": "bBn6ejxaokw1",
        "colab_type": "code",
        "outputId": "3d497c5e-5969-4bc2-a870-dd6da6585ddd",
        "colab": {
          "base_uri": "https://localhost:8080/",
          "height": 34
        }
      },
      "source": [
        "!ls ./data/SST-2\n"
      ],
      "execution_count": 0,
      "outputs": [
        {
          "output_type": "stream",
          "text": [
            "dev.tsv  original  test.tsv  train.tsv\n"
          ],
          "name": "stdout"
        }
      ]
    },
    {
      "cell_type": "code",
      "metadata": {
        "id": "YS52rkhAJCR4",
        "colab_type": "code",
        "outputId": "e834cdce-92c9-4e28-8a5f-0c8e0ef9e94a",
        "colab": {
          "base_uri": "https://localhost:8080/",
          "height": 52
        }
      },
      "source": [
        "!ls ./data/SST-2/original\n"
      ],
      "execution_count": 0,
      "outputs": [
        {
          "output_type": "stream",
          "text": [
            "datasetSentences.txt  dictionary.txt\t\tREADME.txt\t      SOStr.txt\n",
            "datasetSplit.txt      original_rt_snippets.txt\tsentiment_labels.txt  STree.txt\n"
          ],
          "name": "stdout"
        }
      ]
    },
    {
      "cell_type": "code",
      "metadata": {
        "id": "_yfQJax21ety",
        "colab_type": "code",
        "outputId": "c0840951-7213-43e1-e436-2d1ca2c624e3",
        "colab": {
          "base_uri": "https://localhost:8080/",
          "height": 34
        }
      },
      "source": [
        "# Вместо test-а возьмите valid, а valid сделай из train.\n",
        "'''\n",
        "Для RTE есть нормальный valid и test соответственно dev.tsv и test.tsv,\n",
        "поэтому пока использую их и train не разбиваю, что сделать не сложно.\n",
        "'''\n",
        "\n",
        "# <YOUR CODE>\n",
        "train_pd = pd.read_csv('./data/RTE/train.tsv', sep='\\t', index_col='index')\n",
        "test_pd = pd.read_csv('./data/RTE/dev.tsv', sep='\\t', index_col='index')\n",
        "\n",
        "mask = np.random.rand(len(train_pd)) < 0.9\n",
        "valid_pd = train_pd[~mask]\n",
        "train_pd = train_pd[mask]\n",
        "print(f'train: {train_pd.shape}, valid: {valid_pd.shape}, test: {test_pd.shape}')\n",
        "# </YOUR CODE>\n"
      ],
      "execution_count": 0,
      "outputs": [
        {
          "output_type": "stream",
          "text": [
            "train: (2218, 3), valid: (272, 3), test: (277, 3)\n"
          ],
          "name": "stdout"
        }
      ]
    },
    {
      "cell_type": "code",
      "metadata": {
        "id": "AWPSpI7AlzIS",
        "colab_type": "code",
        "outputId": "2866e77b-f60c-4ed3-a8f2-3ba59e24dda6",
        "colab": {
          "base_uri": "https://localhost:8080/",
          "height": 238
        }
      },
      "source": [
        "train_pd.head()\n"
      ],
      "execution_count": 0,
      "outputs": [
        {
          "output_type": "execute_result",
          "data": {
            "text/html": [
              "<div>\n",
              "<style scoped>\n",
              "    .dataframe tbody tr th:only-of-type {\n",
              "        vertical-align: middle;\n",
              "    }\n",
              "\n",
              "    .dataframe tbody tr th {\n",
              "        vertical-align: top;\n",
              "    }\n",
              "\n",
              "    .dataframe thead th {\n",
              "        text-align: right;\n",
              "    }\n",
              "</style>\n",
              "<table border=\"1\" class=\"dataframe\">\n",
              "  <thead>\n",
              "    <tr style=\"text-align: right;\">\n",
              "      <th></th>\n",
              "      <th>sentence1</th>\n",
              "      <th>sentence2</th>\n",
              "      <th>label</th>\n",
              "    </tr>\n",
              "    <tr>\n",
              "      <th>index</th>\n",
              "      <th></th>\n",
              "      <th></th>\n",
              "      <th></th>\n",
              "    </tr>\n",
              "  </thead>\n",
              "  <tbody>\n",
              "    <tr>\n",
              "      <th>0</th>\n",
              "      <td>No Weapons of Mass Destruction Found in Iraq Yet.</td>\n",
              "      <td>Weapons of Mass Destruction Found in Iraq.</td>\n",
              "      <td>not_entailment</td>\n",
              "    </tr>\n",
              "    <tr>\n",
              "      <th>1</th>\n",
              "      <td>A place of sorrow, after Pope John Paul II die...</td>\n",
              "      <td>Pope Benedict XVI is the new leader of the Rom...</td>\n",
              "      <td>entailment</td>\n",
              "    </tr>\n",
              "    <tr>\n",
              "      <th>2</th>\n",
              "      <td>Herceptin was already approved to treat the si...</td>\n",
              "      <td>Herceptin can be used to treat breast cancer.</td>\n",
              "      <td>entailment</td>\n",
              "    </tr>\n",
              "    <tr>\n",
              "      <th>3</th>\n",
              "      <td>Judie Vivian, chief executive at ProMedica, a ...</td>\n",
              "      <td>The previous name of Ho Chi Minh City was Saigon.</td>\n",
              "      <td>entailment</td>\n",
              "    </tr>\n",
              "    <tr>\n",
              "      <th>4</th>\n",
              "      <td>A man is due in court later charged with the m...</td>\n",
              "      <td>Paul Stewart Hutchinson is accused of having s...</td>\n",
              "      <td>not_entailment</td>\n",
              "    </tr>\n",
              "  </tbody>\n",
              "</table>\n",
              "</div>"
            ],
            "text/plain": [
              "                                               sentence1  ...           label\n",
              "index                                                     ...                \n",
              "0      No Weapons of Mass Destruction Found in Iraq Yet.  ...  not_entailment\n",
              "1      A place of sorrow, after Pope John Paul II die...  ...      entailment\n",
              "2      Herceptin was already approved to treat the si...  ...      entailment\n",
              "3      Judie Vivian, chief executive at ProMedica, a ...  ...      entailment\n",
              "4      A man is due in court later charged with the m...  ...  not_entailment\n",
              "\n",
              "[5 rows x 3 columns]"
            ]
          },
          "metadata": {
            "tags": []
          },
          "execution_count": 9
        }
      ]
    },
    {
      "cell_type": "code",
      "metadata": {
        "id": "z-1xsyToKkP3",
        "colab_type": "code",
        "outputId": "b660b869-343f-43e0-c799-e82a72a2043c",
        "colab": {
          "base_uri": "https://localhost:8080/",
          "height": 52
        }
      },
      "source": [
        "train_pd.iloc[0, 0], train_pd.iloc[0, 1]\n"
      ],
      "execution_count": 0,
      "outputs": [
        {
          "output_type": "execute_result",
          "data": {
            "text/plain": [
              "('No Weapons of Mass Destruction Found in Iraq Yet.',\n",
              " 'Weapons of Mass Destruction Found in Iraq.')"
            ]
          },
          "metadata": {
            "tags": []
          },
          "execution_count": 11
        }
      ]
    },
    {
      "cell_type": "code",
      "metadata": {
        "id": "or9kgtAEl4eX",
        "colab_type": "code",
        "outputId": "7c7e4c17-31f9-494d-85d3-24a0ce714a4c",
        "colab": {
          "base_uri": "https://localhost:8080/",
          "height": 69
        }
      },
      "source": [
        "train_pd.label.value_counts()\n"
      ],
      "execution_count": 0,
      "outputs": [
        {
          "output_type": "execute_result",
          "data": {
            "text/plain": [
              "entailment        1123\n",
              "not_entailment    1094\n",
              "Name: label, dtype: int64"
            ]
          },
          "metadata": {
            "tags": []
          },
          "execution_count": 12
        }
      ]
    },
    {
      "cell_type": "markdown",
      "metadata": {
        "id": "iK5iar5f8e_7",
        "colab_type": "text"
      },
      "source": [
        "Для начала рассмотрим важную часть обработки текста для трансфомера (и не только) – токенайзер.\n",
        "\n",
        "В качестве примера токенайзера воспользуемся внутренним из библиотеки transformers, обученным для BERT-а. Посмотрим, что он умеет."
      ]
    },
    {
      "cell_type": "code",
      "metadata": {
        "id": "8I3h53-DpofT",
        "colab_type": "code",
        "colab": {}
      },
      "source": [
        "model_name = 'bert-base-uncased'\n",
        "\n",
        "tokenizer = transformers.AutoTokenizer.from_pretrained(model_name)\n"
      ],
      "execution_count": 0,
      "outputs": []
    },
    {
      "cell_type": "markdown",
      "metadata": {
        "id": "Q0BjZAx68v6T",
        "colab_type": "text"
      },
      "source": [
        "Посмотрим, как происходит токенизация предложения."
      ]
    },
    {
      "cell_type": "code",
      "metadata": {
        "id": "RDkvs3uQpsCY",
        "colab_type": "code",
        "outputId": "90b600b5-53c5-4917-820b-4335d64d83c5",
        "colab": {
          "base_uri": "https://localhost:8080/",
          "height": 34
        }
      },
      "source": [
        "test_sentence = \"Hide new secretions from the parental units.\"\n",
        "print(tokenizer.tokenize(test_sentence))\n"
      ],
      "execution_count": 0,
      "outputs": [
        {
          "output_type": "stream",
          "text": [
            "['hide', 'new', 'secret', '##ions', 'from', 'the', 'parental', 'units', '.']\n"
          ],
          "name": "stdout"
        }
      ]
    },
    {
      "cell_type": "markdown",
      "metadata": {
        "id": "La_1q8Cj82e8",
        "colab_type": "text"
      },
      "source": [
        "Видно, что предложения разделяются не на слова, а подслова. Токены, которые надо объеденить в слова для получения \"нормального\" текста, выделены с помощью `##`. Посмотрим, как различаются коды токенов с этим символом и без него."
      ]
    },
    {
      "cell_type": "code",
      "metadata": {
        "id": "WKd0SwME9bi3",
        "colab_type": "code",
        "outputId": "40bbc5e6-10e4-4eb6-98da-28c0d68203a6",
        "colab": {
          "base_uri": "https://localhost:8080/",
          "height": 52
        }
      },
      "source": [
        "print(tokenizer.convert_tokens_to_ids(['ions']))\n",
        "print(tokenizer.convert_tokens_to_ids(['##ions']))\n"
      ],
      "execution_count": 0,
      "outputs": [
        {
          "output_type": "stream",
          "text": [
            "[15956]\n",
            "[8496]\n"
          ],
          "name": "stdout"
        }
      ]
    },
    {
      "cell_type": "markdown",
      "metadata": {
        "id": "w5qZXD5Z-D5o",
        "colab_type": "text"
      },
      "source": [
        "Для токенизации предложений воспользуемся методом `encode`. Он принимает предложение как строку или список токенов**(!)**."
      ]
    },
    {
      "cell_type": "code",
      "metadata": {
        "id": "TUZQ6tMNpsEh",
        "colab_type": "code",
        "outputId": "410ff3a5-c8a2-42bd-d1a8-d07b1a635067",
        "colab": {
          "base_uri": "https://localhost:8080/",
          "height": 34
        }
      },
      "source": [
        "print(tokenizer.encode(test_sentence))\n"
      ],
      "execution_count": 0,
      "outputs": [
        {
          "output_type": "stream",
          "text": [
            "[101, 5342, 2047, 3595, 8496, 2013, 1996, 18643, 3197, 1012, 102]\n"
          ],
          "name": "stdout"
        }
      ]
    },
    {
      "cell_type": "markdown",
      "metadata": {
        "id": "wiVCb6RG-Yi2",
        "colab_type": "text"
      },
      "source": [
        "Добавились специальные токены впереди и сзади предложения. Посмотрим на весь список специальных токенов:"
      ]
    },
    {
      "cell_type": "code",
      "metadata": {
        "id": "-AqoVIrktk4v",
        "colab_type": "code",
        "outputId": "bf21d37d-e97e-4d00-83fd-868e59bb09d1",
        "colab": {
          "base_uri": "https://localhost:8080/",
          "height": 52
        }
      },
      "source": [
        "print(tokenizer.special_tokens_map)\n",
        "print({i: j for i, j in zip(tokenizer.all_special_tokens, tokenizer.all_special_ids)})\n"
      ],
      "execution_count": 0,
      "outputs": [
        {
          "output_type": "stream",
          "text": [
            "{'unk_token': '[UNK]', 'sep_token': '[SEP]', 'pad_token': '[PAD]', 'cls_token': '[CLS]', 'mask_token': '[MASK]'}\n",
            "{'[SEP]': 102, '[CLS]': 101, '[MASK]': 103, '[UNK]': 100, '[PAD]': 0}\n"
          ],
          "name": "stdout"
        }
      ]
    },
    {
      "cell_type": "markdown",
      "metadata": {
        "id": "8TA4XbeA-phM",
        "colab_type": "text"
      },
      "source": [
        "Посмотрим, что ещё может делать токенайзер. Что требуется нам для обучения BERT-а: добавить паддинг, получить маску аттеншена и тип токенов. Попробуем сделать это самостоятельно и посмотрим, как это сделать с помощью токенайзера.\n",
        "\n",
        "Выбери два предложения из обучающей выборки. Получи их токены с помощью метода `tokenize`. Объедени списки токенов так, чтобы модель могла различать, что они от разных предложений. \n",
        "\n",
        "(Подсказка: на семинаре была картинка с эмбеддингами. Она может подсказать, что надо изменить в токенах предложения) "
      ]
    },
    {
      "cell_type": "code",
      "metadata": {
        "id": "4esxYXTipsG8",
        "colab_type": "code",
        "colab": {}
      },
      "source": [
        "# <YOUR CODE>\n",
        "s1, s2 = train_pd.loc[383, 'sentence1'], train_pd.loc[383, 'sentence2']\n",
        "tokenized_s1, tokenized_s2 = tokenizer.tokenize(s1), tokenizer.tokenize(s2)\n",
        "s_union = tokenized_s1 + ['[SEP]'] + tokenized_s2\n",
        "# </YOUR CODE>\n",
        "\n",
        "# <DON'T TOUCH THIS!>\n",
        "assert tokenizer.encode(s_union) == tokenizer.encode(s1, s2), \"Not equal\"\n",
        "# </DON'T TOUCH THIS!>\n"
      ],
      "execution_count": 0,
      "outputs": []
    },
    {
      "cell_type": "markdown",
      "metadata": {
        "id": "9k6nrFRHBJBl",
        "colab_type": "text"
      },
      "source": [
        "Теперь надо добавь нулей в полученный список чисел, чтобы они легко складывались в батчи."
      ]
    },
    {
      "cell_type": "code",
      "metadata": {
        "id": "uY-xd0_qp9rJ",
        "colab_type": "code",
        "outputId": "bd2867d4-5fe1-495e-b538-7e6d3821c562",
        "colab": {
          "base_uri": "https://localhost:8080/",
          "height": 34
        }
      },
      "source": [
        "# <YOUR CODE>\n",
        "encoded_full = tokenizer.encode(s_union)\n",
        "encoded_full = encoded_full + [0] * (max_seq_length - len(encoded_full))\n",
        "\n",
        "print(encoded_full[-20:])\n",
        "# </YOUR CODE>\n",
        "\n",
        "# <DON'T TOUCH THIS!>\n",
        "encoded_correct = tokenizer.encode(s1, s2, max_length=max_seq_length, pad_to_max_length=True)\n",
        "assert len(encoded_full) == len(encoded_correct), \"Different length\"\n",
        "assert encoded_full == encoded_correct, \"Not equal\"\n",
        "# </DON'T TOUCH THIS!>\n"
      ],
      "execution_count": 0,
      "outputs": [
        {
          "output_type": "stream",
          "text": [
            "[6017, 2386, 1012, 102, 25616, 4880, 7174, 2003, 1996, 2873, 1997, 1996, 2394, 2136, 1012, 102, 0, 0, 0, 0]\n"
          ],
          "name": "stdout"
        }
      ]
    },
    {
      "cell_type": "markdown",
      "metadata": {
        "id": "Fd5yNVukBZuC",
        "colab_type": "text"
      },
      "source": [
        "В модель также надо кинуть маску для механизма внимания и тип предложения для каждого токена. Сделай их."
      ]
    },
    {
      "cell_type": "code",
      "metadata": {
        "id": "3hiljf3_vQ75",
        "colab_type": "code",
        "outputId": "e1c0edef-33fe-4037-c5e9-eb30a48b5632",
        "colab": {
          "base_uri": "https://localhost:8080/",
          "height": 52
        }
      },
      "source": [
        "# <YOUR CODE>\n",
        "token_type_ids = [0 for e in encoded_full[: encoded_full.index(102)+1]] +\\\n",
        "                 [e > 0 for e in encoded_full[encoded_full.index(102)+1 :]]\n",
        "attention_mask = [e > 0 for e in encoded_full]\n",
        "\n",
        "print(list(map(int, token_type_ids[-20:])))\n",
        "print(list(map(int, attention_mask[-20:])))\n",
        "# </YOUR CODE>\n",
        "\n",
        "# <DON'T TOUCH THIS!>\n",
        "encoded_plus = tokenizer.encode_plus(s1, text_pair=s2, max_length=max_seq_length, pad_to_max_length=True)\n",
        "assert len(token_type_ids) == len(encoded_plus['token_type_ids']), \"Different length in token_type_ids\"\n",
        "assert token_type_ids == encoded_plus['token_type_ids'], \"Not equal token_type_ids\"\n",
        "assert len(attention_mask) == len(encoded_plus['attention_mask']), \"Different length in attention_mask\"\n",
        "assert attention_mask == encoded_plus['attention_mask'], \"Not equal attention_mask\"\n",
        "# </DON'T TOUCH THIS!>\n"
      ],
      "execution_count": 0,
      "outputs": [
        {
          "output_type": "stream",
          "text": [
            "[0, 0, 0, 0, 1, 1, 1, 1, 1, 1, 1, 1, 1, 1, 1, 1, 0, 0, 0, 0]\n",
            "[1, 1, 1, 1, 1, 1, 1, 1, 1, 1, 1, 1, 1, 1, 1, 1, 0, 0, 0, 0]\n"
          ],
          "name": "stdout"
        }
      ]
    },
    {
      "cell_type": "markdown",
      "metadata": {
        "id": "UxruIU08CEgg",
        "colab_type": "text"
      },
      "source": [
        "Как видно из тестов, все нужные для обработки текста для BERT-а вещи может делать токенизатор из `transformers`. Но не все токенизаторы настолько функциональны. Их (почти)полный список:\n",
        "- [Sentence Piece](https://github.com/google/sentencepiece/)\n",
        "- [fastBPE](https://github.com/glample/fastBPE)\n",
        "- [Hugging Face Tokenizers](https://github.com/huggingface/tokenizers)\n",
        "- [YouTokenToMe](https://github.com/VKCOM/YouTokenToMe)\n",
        "\n",
        "Их сравнивают [здесь](https://github.com/VKCOM/YouTokenToMe/blob/master/benchmark.md) или [здесь](https://towardsdatascience.com/a-small-timing-experiment-on-the-new-tokenizers-library-a-write-up-7caab6f80ea6). Также специальные токенайзеры, которые специализируются на \"незападные\" языки. Но не будем на них останавливаться.\n",
        "\n",
        "Теперь ты знаешь достаточно, чтобы написать обработчик данных. Что надо сделать: получить из данных предложения, закодировать их, получить аттенш маску и тип токенов, не забыть про таргет. \n",
        "\n",
        "P.S. Есть более быстрая версия токенизатора для BERT внутри `transformers`, `BertTokenizerFast`. \n",
        "\n",
        "P.S.S. Теперь надо использовать только функционал токенайзера для кодирования предложений, без велосипедов."
      ]
    },
    {
      "cell_type": "code",
      "metadata": {
        "id": "0y-wgeHHokz1",
        "colab_type": "code",
        "colab": {}
      },
      "source": [
        "class TextClassificationDataset(Dataset):\n",
        "    def __init__(self, data, tokenizer):\n",
        "        self.data = data\n",
        "        self.tokenizer = tokenizer\n",
        "\n",
        "        # <YOUR CODE>\n",
        "        self.features = self.data.apply(lambda row:\n",
        "                                        tokenizer.\n",
        "                                        encode(row['sentence1'],\n",
        "                                               row['sentence2'],\n",
        "                                               max_length=max_seq_length,\n",
        "                                               pad_to_max_length=True), axis=1).values\n",
        "\n",
        "        self.attention_mask = self.data.apply(lambda row:\n",
        "                                              tokenizer.\n",
        "                                              encode_plus(row['sentence1'],\n",
        "                                                          text_pair=row['sentence2'],\n",
        "                                                          max_length=max_seq_length,\n",
        "                                                          pad_to_max_length=True)['attention_mask'], axis=1).values\n",
        "\n",
        "        self.token_types_ids = self.data.apply(lambda row:\n",
        "                                               tokenizer.\n",
        "                                               encode_plus(row['sentence1'],\n",
        "                                                           text_pair=row['sentence2'],\n",
        "                                                           max_length=max_seq_length,\n",
        "                                                           pad_to_max_length=True)['token_type_ids'], axis=1).values\n",
        "\n",
        "        self.target = self.data.label.apply(lambda e: 0 if e == 'entailment' else 1).values\n",
        "        # </YOUR CODE>\n",
        "\n",
        "    def __len__(self):\n",
        "        return len(self.features)\n",
        "\n",
        "    def __getitem__(self, idx):\n",
        "        return {\n",
        "            'input_ids': torch.tensor(self.features[idx]),\n",
        "            'attention_mask': torch.tensor(self.attention_mask[idx]),\n",
        "            'token_type_ids': torch.tensor(self.token_types_ids[idx]),\n",
        "            'targets': torch.tensor(self.target[idx])\n",
        "        }\n"
      ],
      "execution_count": 0,
      "outputs": []
    },
    {
      "cell_type": "markdown",
      "metadata": {
        "id": "UFVoCAkiFGJt",
        "colab_type": "text"
      },
      "source": [
        "Воспользуйтесь семинаром и построй модель для классификации предложений.\n",
        "\n",
        "(Подсказка: весь код BERT-а из семинара доступен из библиотеки `transformers`)"
      ]
    },
    {
      "cell_type": "code",
      "metadata": {
        "id": "oa6coCLFFSZW",
        "colab_type": "code",
        "colab": {}
      },
      "source": [
        "class BertForSequenceClassification(nn.Module):\n",
        "    def __init__(self, pretrained_model_name: str, num_labels: int):\n",
        "        super().__init__()\n",
        "\n",
        "        # <YOUR CODE>\n",
        "        config = transformers.BertConfig.from_pretrained(\n",
        "            pretrained_model_name, \n",
        "            num_labels=num_labels\n",
        "        )\n",
        "\n",
        "        self.bert = transformers.BertModel.from_pretrained(\n",
        "            pretrained_model_name,\n",
        "            config=config\n",
        "        )\n",
        "\n",
        "        self.classifier = nn.Linear(self.bert.config.hidden_size, num_labels)\n",
        "        self.dropout = nn.Dropout(self.bert.config.hidden_dropout_prob)\n",
        "        # </YOUR CODE>\n",
        "\n",
        "    def forward(self, input_ids=None, attention_mask=None, token_type_ids=None):\n",
        "\n",
        "        # <YOUR CODE>\n",
        "        assert attention_mask is not None, \"attention mask is none\"\n",
        "        bert_output = self.bert(input_ids=input_ids,\n",
        "                                attention_mask=attention_mask,\n",
        "                                token_type_ids=token_type_ids)\n",
        "\n",
        "        hidden_state = bert_output[0]\n",
        "        pooled_output = hidden_state[:, 0]\n",
        "        pooled_output = self.dropout(pooled_output)\n",
        "        logits = self.classifier(pooled_output)\n",
        "        # </YOUR CODE>\n",
        "\n",
        "        return logits\n"
      ],
      "execution_count": 0,
      "outputs": []
    },
    {
      "cell_type": "markdown",
      "metadata": {
        "id": "gI9IMsE0G1gh",
        "colab_type": "text"
      },
      "source": [
        "Выбери из [списка](https://huggingface.co/models?search=google%2Fbert_) несколько моделей, которые ты будешь обучать. Сравни их качество на выбранных датасетах. \n",
        "\n",
        "Лучше всего будет выбрать одну основную конфигурацию, и другие с небольшим изменением. Например, пройтись по такой сетке: `{'layers': [2, 4], 'num_heads': [2, 4]}`. "
      ]
    },
    {
      "cell_type": "code",
      "metadata": {
        "id": "mVSVPwi-JDIG",
        "colab_type": "code",
        "colab": {}
      },
      "source": [
        "\n",
        "\n",
        "num_labels = 2      # 2\n",
        "\n"
      ],
      "execution_count": 0,
      "outputs": []
    },
    {
      "cell_type": "code",
      "metadata": {
        "id": "7-22wBwrFMob",
        "colab_type": "code",
        "outputId": "f859b8ff-c126-4696-e127-83edd4e8c07e",
        "colab": {
          "base_uri": "https://localhost:8080/",
          "height": 182,
          "referenced_widgets": [
            "b81192db665443588b1f643c5a75f39e",
            "2b49ebc335d744b8a2def787b70f418d",
            "36cb7633c4bc4f9083851d021eb090c7",
            "a92a4b96959e41c390031774329f3296",
            "9db0cb47c5004d7dbb3984324a0bc290",
            "d620740e9199486690fcc5b3955c29e0",
            "758ae06a32614a3aaad0dbba80182211",
            "1503626e040d4b22b730c3d537dec6e0",
            "403600d8d7534711a7cc89435e977ddc",
            "ff2765edda5c4560bc9a2e8c44284609",
            "95de0ab48d1c4853bc9753cf8c838de2",
            "14029f212cb14f81a225aebb2692eb80",
            "173157f93b3646eea602e05776e77412",
            "7c31796dc5454307a5a44d1603516d7a",
            "1fc88a59622342a097af21f9518980e8",
            "403f2e69d91744c88c711f80e0ad4bc6",
            "4140daee3edf439ab59086ccffbe8c18",
            "d0f38b58ee424a3cbf1c4d4b26b2209d",
            "5b50cd85ad9e40e0b446c2e50fb1fd8f",
            "8c5df53bd71e4133a9f1b7c05ebcc94e",
            "c86eb909823a418caad99d31f4afe428",
            "77b40cd88a73435aaf987ab2a3b3e977",
            "e4f4047414d74a13bb7133db289c492f",
            "738f9f79caba4caa9d2db77a3de4e3f2"
          ]
        }
      },
      "source": [
        "device = torch.device(\"cuda\" if torch.cuda.is_available() else \"cpu\")\n",
        "\n",
        "# <YOUR CODE>\n",
        "pretrained_model_name = 'google/bert_uncased_L-4_H-256_A-4' # \"bert-base-uncased\"\n",
        "# 'google/bert_uncased_L-2_H-128_A-2', 'google/bert_uncased_L-2_H-256_A-4',\n",
        "# 'google/bert_uncased_L-4_H-128_A-2', 'google/bert_uncased_L-4_H-256_A-4\n",
        "tokenizer = transformers.AutoTokenizer.from_pretrained(pretrained_model_name)\n",
        "model = BertForSequenceClassification(pretrained_model_name, num_labels=num_labels)\n",
        "# </YOUR CODE>\n",
        "\n",
        "model.to(device)\n",
        "print(\"Success!\")\n"
      ],
      "execution_count": 0,
      "outputs": [
        {
          "output_type": "display_data",
          "data": {
            "application/vnd.jupyter.widget-view+json": {
              "model_id": "b81192db665443588b1f643c5a75f39e",
              "version_minor": 0,
              "version_major": 2
            },
            "text/plain": [
              "HBox(children=(FloatProgress(value=0.0, description='Downloading', max=383.0, style=ProgressStyle(description_…"
            ]
          },
          "metadata": {
            "tags": []
          }
        },
        {
          "output_type": "stream",
          "text": [
            "\n"
          ],
          "name": "stdout"
        },
        {
          "output_type": "display_data",
          "data": {
            "application/vnd.jupyter.widget-view+json": {
              "model_id": "403600d8d7534711a7cc89435e977ddc",
              "version_minor": 0,
              "version_major": 2
            },
            "text/plain": [
              "HBox(children=(FloatProgress(value=0.0, description='Downloading', max=231508.0, style=ProgressStyle(descripti…"
            ]
          },
          "metadata": {
            "tags": []
          }
        },
        {
          "output_type": "stream",
          "text": [
            "\n"
          ],
          "name": "stdout"
        },
        {
          "output_type": "display_data",
          "data": {
            "application/vnd.jupyter.widget-view+json": {
              "model_id": "4140daee3edf439ab59086ccffbe8c18",
              "version_minor": 0,
              "version_major": 2
            },
            "text/plain": [
              "HBox(children=(FloatProgress(value=0.0, description='Downloading', max=45088961.0, style=ProgressStyle(descrip…"
            ]
          },
          "metadata": {
            "tags": []
          }
        },
        {
          "output_type": "stream",
          "text": [
            "\n",
            "Success!\n"
          ],
          "name": "stdout"
        }
      ]
    },
    {
      "cell_type": "code",
      "metadata": {
        "id": "tCL7wstMczw9",
        "colab_type": "code",
        "outputId": "ac6786ce-597b-4185-ec9a-5448bd6f4d9a",
        "colab": {
          "base_uri": "https://localhost:8080/",
          "height": 34
        }
      },
      "source": [
        "batch_size = 32\n",
        "\n",
        "\n",
        "# <YOUR CODE>\n",
        "train_dataset = TextClassificationDataset(train_pd, tokenizer)\n",
        "train_sampler = RandomSampler(train_dataset)\n",
        "train_dataloader = DataLoader(train_dataset, sampler=train_sampler, batch_size=batch_size)\n",
        "\n",
        "valid_dataset = TextClassificationDataset(valid_pd, tokenizer)\n",
        "valid_sampler = RandomSampler(valid_dataset)\n",
        "valid_dataloader = DataLoader(valid_dataset, sampler=valid_sampler, batch_size=batch_size)\n",
        "\n",
        "test_dataset = TextClassificationDataset(test_pd, tokenizer)\n",
        "test_dataloader = DataLoader(test_dataset, shuffle=False, batch_size=batch_size)\n",
        "\n",
        "dataloaders = {\n",
        "    \"train\": train_dataloader,\n",
        "    \"valid\": valid_dataloader,\n",
        "    \"test\": test_dataloader\n",
        "}\n",
        "\n",
        "print(f\"Dataset size: {len(dataloaders)}\")\n",
        "# </YOUR CODE>\n"
      ],
      "execution_count": 0,
      "outputs": [
        {
          "output_type": "stream",
          "text": [
            "Dataset size: 3\n"
          ],
          "name": "stdout"
        }
      ]
    },
    {
      "cell_type": "code",
      "metadata": {
        "id": "8VsyoAmwjnb2",
        "colab_type": "code",
        "colab": {}
      },
      "source": [
        "seed = 404\n",
        "set_global_seed(seed)\n",
        "prepare_cudnn(True)\n"
      ],
      "execution_count": 0,
      "outputs": []
    },
    {
      "cell_type": "code",
      "metadata": {
        "colab_type": "code",
        "id": "38ojXge_Hy71",
        "colab": {}
      },
      "source": [
        "# Гиперпараметры для обучения модели. Подбери нужные для каждой модели.\n",
        "\n",
        "epochs = 10\n",
        "lr = 1e-5 \n",
        "warmup_steps = len(train_dataloader) // 2 \n",
        "\n",
        "t_total = len(train_dataloader) * epochs\n"
      ],
      "execution_count": 0,
      "outputs": []
    },
    {
      "cell_type": "markdown",
      "metadata": {
        "id": "H3TVwcWzH1ok",
        "colab_type": "text"
      },
      "source": [
        "Добавь Loss, Optimizer и Scheduler."
      ]
    },
    {
      "cell_type": "code",
      "metadata": {
        "id": "mifqwFYdjnWx",
        "colab_type": "code",
        "colab": {}
      },
      "source": [
        "optimizer_grouped_parameters = [\n",
        "    {\"params\": [p for n, p in model.named_parameters()], \"weight_decay\": 0.0},\n",
        "]\n",
        "\n",
        "# <YOUR CODE>\n",
        "criterion = torch.nn.CrossEntropyLoss()\n",
        "optimizer = transformers.AdamW(optimizer_grouped_parameters, lr=lr)\n",
        "scheduler = transformers.get_linear_schedule_with_warmup(\n",
        "    optimizer, num_warmup_steps=warmup_steps, num_training_steps=t_total\n",
        ")\n",
        "# </YOUR CODE>\n"
      ],
      "execution_count": 0,
      "outputs": []
    },
    {
      "cell_type": "code",
      "metadata": {
        "id": "ZbbWyPiE7MgP",
        "colab_type": "code",
        "colab": {}
      },
      "source": [
        "log_dir = 'logs/'\n"
      ],
      "execution_count": 0,
      "outputs": []
    },
    {
      "cell_type": "markdown",
      "metadata": {
        "id": "RTXx8X69IClJ",
        "colab_type": "text"
      },
      "source": [
        "Для обучения модели воспользуемся библиотекой `catalyst`."
      ]
    },
    {
      "cell_type": "code",
      "metadata": {
        "id": "fFZ9z53VE5tB",
        "colab_type": "code",
        "outputId": "bdf31033-91aa-4045-c393-ae640ee3dc60",
        "colab": {
          "base_uri": "https://localhost:8080/",
          "height": 1000
        }
      },
      "source": [
        "runner = SupervisedRunner(\n",
        "    input_key=(\n",
        "        \"input_ids\",\n",
        "        \"attention_mask\",\n",
        "        \"token_type_ids\"\n",
        "    ),\n",
        "    input_target_key='targets'\n",
        ")\n",
        "\n",
        "runner.train(\n",
        "    model=model,\n",
        "    criterion=criterion,\n",
        "    optimizer=optimizer,\n",
        "    scheduler=scheduler,\n",
        "    loaders=dataloaders,\n",
        "    callbacks=[\n",
        "        AccuracyCallback(num_classes=num_labels),\n",
        "        SchedulerCallback(mode='batch'),\n",
        "    ],\n",
        "    logdir=log_dir,\n",
        "    num_epochs=epochs,\n",
        "    verbose=True,\n",
        ")\n"
      ],
      "execution_count": 0,
      "outputs": [
        {
          "output_type": "stream",
          "text": [
            "1/10 * Epoch (train):   3% 2/70 [00:00<00:09,  7.45it/s, accuracy01=0.469, loss=0.934, lr=5.714e-07, momentum=0.900]"
          ],
          "name": "stdout"
        },
        {
          "output_type": "stream",
          "text": [
            "/usr/local/lib/python3.6/dist-packages/torch/optim/lr_scheduler.py:231: UserWarning:\n",
            "\n",
            "To get the last learning rate computed by the scheduler, please use `get_last_lr()`.\n",
            "\n"
          ],
          "name": "stderr"
        },
        {
          "output_type": "stream",
          "text": [
            "1/10 * Epoch (train): 100% 70/70 [00:07<00:00,  9.98it/s, accuracy01=0.300, loss=0.872, lr=9.474e-06, momentum=0.900]\n",
            "1/10 * Epoch (valid): 100% 9/9 [00:00<00:00, 31.68it/s, accuracy01=0.625, loss=0.684]\n",
            "1/10 * Epoch (test): 100% 9/9 [00:00<00:00, 30.31it/s, accuracy01=0.714, loss=0.579]\n",
            "[2020-05-11 14:14:53,020] \n",
            "1/10 * Epoch 1 (_base): lr=9.474e-06 | momentum=0.9000\n",
            "1/10 * Epoch 1 (train): accuracy01=0.5373 | loss=0.7442 | lr=7.436e-06 | momentum=0.9000\n",
            "1/10 * Epoch 1 (valid): accuracy01=0.5833 | loss=0.6784\n",
            "1/10 * Epoch 1 (test): accuracy01=0.5794 | loss=0.6632\n"
          ],
          "name": "stdout"
        },
        {
          "output_type": "stream",
          "text": [
            "/usr/local/lib/python3.6/dist-packages/torch/optim/lr_scheduler.py:200: UserWarning:\n",
            "\n",
            "Please also save or load the state of the optimzer when saving or loading the scheduler.\n",
            "\n"
          ],
          "name": "stderr"
        },
        {
          "output_type": "stream",
          "text": [
            "2/10 * Epoch (train): 100% 70/70 [00:06<00:00, 10.04it/s, accuracy01=0.500, loss=0.707, lr=8.421e-06, momentum=0.900]\n",
            "2/10 * Epoch (valid): 100% 9/9 [00:00<00:00, 31.45it/s, accuracy01=0.562, loss=0.699]\n",
            "2/10 * Epoch (test): 100% 9/9 [00:00<00:00, 30.60it/s, accuracy01=0.810, loss=0.565]\n",
            "[2020-05-11 14:15:01,944] \n",
            "2/10 * Epoch 2 (_base): lr=8.421e-06 | momentum=0.9000\n",
            "2/10 * Epoch 2 (train): accuracy01=0.5737 | loss=0.6781 | lr=8.940e-06 | momentum=0.9000\n",
            "2/10 * Epoch 2 (valid): accuracy01=0.5764 | loss=0.6733\n",
            "2/10 * Epoch 2 (test): accuracy01=0.5969 | loss=0.6543\n",
            "3/10 * Epoch (train): 100% 70/70 [00:07<00:00,  9.74it/s, accuracy01=0.500, loss=0.687, lr=7.368e-06, momentum=0.900]\n",
            "3/10 * Epoch (valid): 100% 9/9 [00:00<00:00, 31.30it/s, accuracy01=0.562, loss=0.650]\n",
            "3/10 * Epoch (test): 100% 9/9 [00:00<00:00, 31.02it/s, accuracy01=0.762, loss=0.539]\n",
            "[2020-05-11 14:15:11,347] \n",
            "3/10 * Epoch 3 (_base): lr=7.368e-06 | momentum=0.9000\n",
            "3/10 * Epoch 3 (train): accuracy01=0.5987 | loss=0.6605 | lr=7.887e-06 | momentum=0.9000\n",
            "3/10 * Epoch 3 (valid): accuracy01=0.5868 | loss=0.6500\n",
            "3/10 * Epoch 3 (test): accuracy01=0.6055 | loss=0.6428\n",
            "4/10 * Epoch (train): 100% 70/70 [00:06<00:00, 10.05it/s, accuracy01=0.800, loss=0.577, lr=6.316e-06, momentum=0.900]\n",
            "4/10 * Epoch (valid): 100% 9/9 [00:00<00:00, 31.58it/s, accuracy01=0.625, loss=0.654]\n",
            "4/10 * Epoch (test): 100% 9/9 [00:00<00:00, 31.20it/s, accuracy01=0.810, loss=0.515]\n",
            "[2020-05-11 14:15:20,342] \n",
            "4/10 * Epoch 4 (_base): lr=6.316e-06 | momentum=0.9000\n",
            "4/10 * Epoch 4 (train): accuracy01=0.6302 | loss=0.6444 | lr=6.835e-06 | momentum=0.9000\n",
            "4/10 * Epoch 4 (valid): accuracy01=0.6076 | loss=0.6402\n",
            "4/10 * Epoch 4 (test): accuracy01=0.6177 | loss=0.6357\n",
            "5/10 * Epoch (train): 100% 70/70 [00:06<00:00, 10.00it/s, accuracy01=0.700, loss=0.534, lr=5.263e-06, momentum=0.900]\n",
            "5/10 * Epoch (valid): 100% 9/9 [00:00<00:00, 31.21it/s, accuracy01=0.562, loss=0.548]\n",
            "5/10 * Epoch (test): 100% 9/9 [00:00<00:00, 30.77it/s, accuracy01=0.810, loss=0.496]\n",
            "[2020-05-11 14:15:29,375] \n",
            "5/10 * Epoch 5 (_base): lr=5.263e-06 | momentum=0.9000\n",
            "5/10 * Epoch 5 (train): accuracy01=0.6350 | loss=0.6282 | lr=5.782e-06 | momentum=0.9000\n",
            "5/10 * Epoch 5 (valid): accuracy01=0.5833 | loss=0.6376\n",
            "5/10 * Epoch 5 (test): accuracy01=0.6212 | loss=0.6326\n",
            "6/10 * Epoch (train): 100% 70/70 [00:06<00:00, 10.16it/s, accuracy01=0.600, loss=0.765, lr=4.211e-06, momentum=0.900]\n",
            "6/10 * Epoch (valid): 100% 9/9 [00:00<00:00, 32.65it/s, accuracy01=0.562, loss=0.717]\n",
            "6/10 * Epoch (test): 100% 9/9 [00:00<00:00, 31.08it/s, accuracy01=0.762, loss=0.477]\n",
            "[2020-05-11 14:15:38,275] \n",
            "6/10 * Epoch 6 (_base): lr=4.211e-06 | momentum=0.9000\n",
            "6/10 * Epoch 6 (train): accuracy01=0.6644 | loss=0.6089 | lr=4.729e-06 | momentum=0.9000\n",
            "6/10 * Epoch 6 (valid): accuracy01=0.5938 | loss=0.6411\n",
            "6/10 * Epoch 6 (test): accuracy01=0.6298 | loss=0.6297\n",
            "7/10 * Epoch (train): 100% 70/70 [00:06<00:00, 10.16it/s, accuracy01=0.500, loss=0.635, lr=3.158e-06, momentum=0.900]\n",
            "7/10 * Epoch (valid): 100% 9/9 [00:00<00:00, 32.42it/s, accuracy01=0.500, loss=0.792]\n",
            "7/10 * Epoch (test): 100% 9/9 [00:00<00:00, 31.05it/s, accuracy01=0.762, loss=0.471]\n",
            "[2020-05-11 14:15:46,631] \n",
            "7/10 * Epoch 7 (_base): lr=3.158e-06 | momentum=0.9000\n",
            "7/10 * Epoch 7 (train): accuracy01=0.6826 | loss=0.5984 | lr=3.677e-06 | momentum=0.9000\n",
            "7/10 * Epoch 7 (valid): accuracy01=0.5972 | loss=0.6493\n",
            "7/10 * Epoch 7 (test): accuracy01=0.6333 | loss=0.6307\n",
            "8/10 * Epoch (train): 100% 70/70 [00:06<00:00, 10.10it/s, accuracy01=0.500, loss=0.751, lr=2.105e-06, momentum=0.900]\n",
            "8/10 * Epoch (valid): 100% 9/9 [00:00<00:00, 31.89it/s, accuracy01=0.625, loss=0.628]\n",
            "8/10 * Epoch (test): 100% 9/9 [00:00<00:00, 31.00it/s, accuracy01=0.810, loss=0.460]\n",
            "[2020-05-11 14:15:54,876] \n",
            "8/10 * Epoch 8 (_base): lr=2.105e-06 | momentum=0.9000\n",
            "8/10 * Epoch 8 (train): accuracy01=0.6781 | loss=0.5930 | lr=2.624e-06 | momentum=0.9000\n",
            "8/10 * Epoch 8 (valid): accuracy01=0.6007 | loss=0.6291\n",
            "8/10 * Epoch 8 (test): accuracy01=0.6351 | loss=0.6268\n",
            "9/10 * Epoch (train): 100% 70/70 [00:07<00:00,  9.96it/s, accuracy01=0.800, loss=0.614, lr=1.053e-06, momentum=0.900]\n",
            "9/10 * Epoch (valid): 100% 9/9 [00:00<00:00, 31.79it/s, accuracy01=0.750, loss=0.531]\n",
            "9/10 * Epoch (test): 100% 9/9 [00:00<00:00, 29.70it/s, accuracy01=0.810, loss=0.454]\n",
            "[2020-05-11 14:16:05,575] \n",
            "9/10 * Epoch 9 (_base): lr=1.053e-06 | momentum=0.9000\n",
            "9/10 * Epoch 9 (train): accuracy01=0.6882 | loss=0.5888 | lr=1.571e-06 | momentum=0.9000\n",
            "9/10 * Epoch 9 (valid): accuracy01=0.6250 | loss=0.6202\n",
            "9/10 * Epoch 9 (test): accuracy01=0.6420 | loss=0.6249\n",
            "10/10 * Epoch (train): 100% 70/70 [00:06<00:00, 10.17it/s, accuracy01=0.800, loss=0.489, lr=0.000e+00, momentum=0.900]\n",
            "10/10 * Epoch (valid): 100% 9/9 [00:00<00:00, 31.19it/s, accuracy01=0.688, loss=0.601]\n",
            "10/10 * Epoch (test): 100% 9/9 [00:00<00:00, 31.15it/s, accuracy01=0.810, loss=0.454]\n",
            "[2020-05-11 14:16:19,305] \n",
            "10/10 * Epoch 10 (_base): lr=0.000e+00 | momentum=0.9000\n",
            "10/10 * Epoch 10 (train): accuracy01=0.6940 | loss=0.5791 | lr=5.188e-07 | momentum=0.9000\n",
            "10/10 * Epoch 10 (valid): accuracy01=0.6215 | loss=0.6257\n",
            "10/10 * Epoch 10 (test): accuracy01=0.6420 | loss=0.6256\n",
            "Top best models:\n",
            "logs/checkpoints/train.9.pth\t0.6202\n"
          ],
          "name": "stdout"
        }
      ]
    },
    {
      "cell_type": "code",
      "metadata": {
        "id": "M7UUIQYsJ2g5",
        "colab_type": "code",
        "outputId": "1ad434e2-15c7-48af-c69d-7d4fe6244045",
        "colab": {
          "base_uri": "https://localhost:8080/",
          "height": 34
        }
      },
      "source": [
        "# Вместо test-а возьмите valid, а valid сделай из train.\n",
        "\n",
        "# <YOUR CODE>\n",
        "train_pd = pd.read_csv('./data/SST-2/train.tsv', sep='\\t')\n",
        "test_pd = pd.read_csv('./data/SST-2/dev.tsv', sep='\\t')\n",
        "\n",
        "mask = np.random.rand(len(train_pd)) < 0.7\n",
        "valid_pd = train_pd[~mask]\n",
        "train_pd = train_pd[mask]\n",
        "print(f'train: {train_pd.shape}, valid: {valid_pd.shape}, test: {test_pd.shape}')\n",
        "# </YOUR CODE>\n"
      ],
      "execution_count": 0,
      "outputs": [
        {
          "output_type": "stream",
          "text": [
            "train: (47119, 2), valid: (20230, 2), test: (872, 2)\n"
          ],
          "name": "stdout"
        }
      ]
    },
    {
      "cell_type": "code",
      "metadata": {
        "id": "LMm30TcoKfDy",
        "colab_type": "code",
        "outputId": "741a67d0-485a-43df-d1b7-27384e07180c",
        "colab": {
          "base_uri": "https://localhost:8080/",
          "height": 206
        }
      },
      "source": [
        "train_pd.head()\n"
      ],
      "execution_count": 0,
      "outputs": [
        {
          "output_type": "execute_result",
          "data": {
            "text/html": [
              "<div>\n",
              "<style scoped>\n",
              "    .dataframe tbody tr th:only-of-type {\n",
              "        vertical-align: middle;\n",
              "    }\n",
              "\n",
              "    .dataframe tbody tr th {\n",
              "        vertical-align: top;\n",
              "    }\n",
              "\n",
              "    .dataframe thead th {\n",
              "        text-align: right;\n",
              "    }\n",
              "</style>\n",
              "<table border=\"1\" class=\"dataframe\">\n",
              "  <thead>\n",
              "    <tr style=\"text-align: right;\">\n",
              "      <th></th>\n",
              "      <th>sentence</th>\n",
              "      <th>label</th>\n",
              "    </tr>\n",
              "  </thead>\n",
              "  <tbody>\n",
              "    <tr>\n",
              "      <th>0</th>\n",
              "      <td>hide new secretions from the parental units</td>\n",
              "      <td>0</td>\n",
              "    </tr>\n",
              "    <tr>\n",
              "      <th>1</th>\n",
              "      <td>contains no wit , only labored gags</td>\n",
              "      <td>0</td>\n",
              "    </tr>\n",
              "    <tr>\n",
              "      <th>2</th>\n",
              "      <td>that loves its characters and communicates som...</td>\n",
              "      <td>1</td>\n",
              "    </tr>\n",
              "    <tr>\n",
              "      <th>3</th>\n",
              "      <td>remains utterly satisfied to remain the same t...</td>\n",
              "      <td>0</td>\n",
              "    </tr>\n",
              "    <tr>\n",
              "      <th>4</th>\n",
              "      <td>on the worst revenge-of-the-nerds clichés the ...</td>\n",
              "      <td>0</td>\n",
              "    </tr>\n",
              "  </tbody>\n",
              "</table>\n",
              "</div>"
            ],
            "text/plain": [
              "                                            sentence  label\n",
              "0       hide new secretions from the parental units       0\n",
              "1               contains no wit , only labored gags       0\n",
              "2  that loves its characters and communicates som...      1\n",
              "3  remains utterly satisfied to remain the same t...      0\n",
              "4  on the worst revenge-of-the-nerds clichés the ...      0"
            ]
          },
          "metadata": {
            "tags": []
          },
          "execution_count": 99
        }
      ]
    },
    {
      "cell_type": "code",
      "metadata": {
        "id": "M63SPJ0YSe3X",
        "colab_type": "code",
        "outputId": "0b47a98d-ead8-4e3d-de2e-9d8f7e6b55f3",
        "colab": {
          "base_uri": "https://localhost:8080/",
          "height": 69
        }
      },
      "source": [
        "train_pd.label.value_counts()\n"
      ],
      "execution_count": 0,
      "outputs": [
        {
          "output_type": "execute_result",
          "data": {
            "text/plain": [
              "1    26118\n",
              "0    21001\n",
              "Name: label, dtype: int64"
            ]
          },
          "metadata": {
            "tags": []
          },
          "execution_count": 122
        }
      ]
    },
    {
      "cell_type": "code",
      "metadata": {
        "id": "Z8RK7t06M6v5",
        "colab_type": "code",
        "colab": {}
      },
      "source": [
        "class TextClassificationDataset(Dataset):\n",
        "    def __init__(self, data, tokenizer):\n",
        "        self.data = data\n",
        "        self.tokenizer = tokenizer\n",
        "\n",
        "        # <YOUR CODE>\n",
        "        self.features = self.data.apply(lambda row:\n",
        "                                        tokenizer.\n",
        "                                        encode(row['sentence'],\n",
        "                                               max_length=max_seq_length,\n",
        "                                               pad_to_max_length=True), axis=1).values\n",
        "\n",
        "        self.attention_mask = self.data.apply(lambda row:\n",
        "                                              tokenizer.\n",
        "                                              encode_plus(row['sentence'],\n",
        "                                                          max_length=max_seq_length,\n",
        "                                                          pad_to_max_length=True)['attention_mask'], axis=1).values\n",
        "\n",
        "        self.token_types_ids = self.data.apply(lambda row:\n",
        "                                               tokenizer.\n",
        "                                               encode_plus(row['sentence'],\n",
        "                                                           max_length=max_seq_length,\n",
        "                                                           pad_to_max_length=True)['token_type_ids'], axis=1).values\n",
        "\n",
        "        self.target = self.data.label.values\n",
        "        # </YOUR CODE>\n",
        "\n",
        "    def __len__(self):\n",
        "        return len(self.features) \n",
        "\n",
        "    def __getitem__(self, idx):\n",
        "        return {\n",
        "            'input_ids': torch.tensor(self.features[idx]), \n",
        "            'attention_mask': torch.tensor(self.attention_mask[idx]),\n",
        "            'token_type_ids': torch.tensor(self.token_types_ids[idx]),\n",
        "            'targets': torch.tensor(self.target[idx])\n",
        "        }\n",
        "        "
      ],
      "execution_count": 0,
      "outputs": []
    },
    {
      "cell_type": "code",
      "metadata": {
        "id": "4m7CxQEtOEET",
        "colab_type": "code",
        "colab": {}
      },
      "source": [
        "\n",
        "\n",
        "num_labels = 2\n",
        "\n"
      ],
      "execution_count": 0,
      "outputs": []
    },
    {
      "cell_type": "code",
      "metadata": {
        "id": "yBguKTFnOMIG",
        "colab_type": "code",
        "outputId": "e3b1e3da-9920-4b01-c1f4-adb496660298",
        "colab": {
          "base_uri": "https://localhost:8080/",
          "height": 34
        }
      },
      "source": [
        "device = torch.device(\"cuda\" if torch.cuda.is_available() else \"cpu\")\n",
        "\n",
        "# <YOUR CODE>\n",
        "pretrained_model_name = 'google/bert_uncased_L-4_H-256_A-4'\n",
        "# 'google/bert_uncased_L-2_H-128_A-2', 'google/bert_uncased_L-2_H-256_A-4',\n",
        "# 'google/bert_uncased_L-4_H-128_A-2', 'google/bert_uncased_L-4_H-256_A-4\n",
        "tokenizer = transformers.AutoTokenizer.from_pretrained(pretrained_model_name)\n",
        "model = BertForSequenceClassification(pretrained_model_name, num_labels=num_labels)\n",
        "# </YOUR CODE>\n",
        "\n",
        "model.to(device)\n",
        "print(\"Success!\")\n"
      ],
      "execution_count": 0,
      "outputs": [
        {
          "output_type": "stream",
          "text": [
            "Success!\n"
          ],
          "name": "stdout"
        }
      ]
    },
    {
      "cell_type": "code",
      "metadata": {
        "colab_type": "code",
        "outputId": "7348e982-08f7-4fab-8111-215b0eca1a7f",
        "id": "0NAZN4WbObdv",
        "colab": {
          "base_uri": "https://localhost:8080/",
          "height": 34
        }
      },
      "source": [
        "batch_size = 32\n",
        "\n",
        "\n",
        "# <YOUR CODE>\n",
        "train_dataset = TextClassificationDataset(train_pd, tokenizer)\n",
        "train_sampler = RandomSampler(train_dataset)\n",
        "train_dataloader = DataLoader(train_dataset, sampler=train_sampler, batch_size=batch_size)\n",
        "\n",
        "valid_dataset = TextClassificationDataset(valid_pd, tokenizer)\n",
        "valid_sampler = RandomSampler(valid_dataset)\n",
        "valid_dataloader = DataLoader(valid_dataset, sampler=valid_sampler, batch_size=batch_size)\n",
        "\n",
        "test_dataset = TextClassificationDataset(test_pd, tokenizer)\n",
        "test_dataloader = DataLoader(test_dataset, shuffle=False, batch_size=batch_size)\n",
        "\n",
        "dataloaders = {\n",
        "    \"train\": train_dataloader,\n",
        "    \"valid\": valid_dataloader,\n",
        "    \"test\": test_dataloader\n",
        "}\n",
        "\n",
        "print(f\"Dataset size: {len(dataloaders)}\")\n",
        "# </YOUR CODE>\n"
      ],
      "execution_count": 0,
      "outputs": [
        {
          "output_type": "stream",
          "text": [
            "Dataset size: 3\n"
          ],
          "name": "stdout"
        }
      ]
    },
    {
      "cell_type": "code",
      "metadata": {
        "colab_type": "code",
        "id": "lO-ly3-JObd9",
        "colab": {}
      },
      "source": [
        "seed = 404\n",
        "set_global_seed(seed)\n",
        "prepare_cudnn(True)\n"
      ],
      "execution_count": 0,
      "outputs": []
    },
    {
      "cell_type": "code",
      "metadata": {
        "colab_type": "code",
        "id": "s-ID32vCObeE",
        "colab": {}
      },
      "source": [
        "# Гиперпараметры для обучения модели. Подбери нужные для каждой модели.\n",
        "\n",
        "epochs = 10\n",
        "lr = 1e-5\n",
        "warmup_steps = len(train_dataloader) // 2\n",
        "\n",
        "t_total = len(train_dataloader) * epochs\n"
      ],
      "execution_count": 0,
      "outputs": []
    },
    {
      "cell_type": "markdown",
      "metadata": {
        "colab_type": "text",
        "id": "MmkJO4siObeM"
      },
      "source": [
        "Добавь Loss, Optimizer и Scheduler."
      ]
    },
    {
      "cell_type": "code",
      "metadata": {
        "colab_type": "code",
        "id": "mTyQQ81CObeN",
        "colab": {}
      },
      "source": [
        "optimizer_grouped_parameters = [\n",
        "    {\"params\": [p for n, p in model.named_parameters()], \"weight_decay\": 0.0},     #  \"weight_decay\": 0.0\n",
        "]\n",
        "\n",
        "# <YOUR CODE>\n",
        "criterion = torch.nn.CrossEntropyLoss()\n",
        "optimizer = transformers.AdamW(optimizer_grouped_parameters, lr=lr)\n",
        "scheduler = transformers.get_linear_schedule_with_warmup(\n",
        "    optimizer, num_warmup_steps=warmup_steps, num_training_steps=t_total\n",
        ")\n",
        "# </YOUR CODE>\n"
      ],
      "execution_count": 0,
      "outputs": []
    },
    {
      "cell_type": "code",
      "metadata": {
        "colab_type": "code",
        "id": "ZjPZV8WyObeU",
        "colab": {}
      },
      "source": [
        "log_dir = 'logs/'\n"
      ],
      "execution_count": 0,
      "outputs": []
    },
    {
      "cell_type": "markdown",
      "metadata": {
        "colab_type": "text",
        "id": "G-X9vxroObeZ"
      },
      "source": [
        "Для обучения модели воспользуемся библиотекой `catalyst`."
      ]
    },
    {
      "cell_type": "code",
      "metadata": {
        "colab_type": "code",
        "outputId": "5a331a76-2c2a-4f1b-a7c4-a2ea897634a2",
        "id": "SbxrJmICObeZ",
        "colab": {
          "base_uri": "https://localhost:8080/",
          "height": 1000
        }
      },
      "source": [
        "runner = SupervisedRunner(\n",
        "    input_key=(\n",
        "        \"input_ids\",\n",
        "        \"attention_mask\",\n",
        "        \"token_type_ids\"\n",
        "    ),\n",
        "    input_target_key='targets'\n",
        ")\n",
        "\n",
        "runner.train(\n",
        "    model=model,\n",
        "    criterion=criterion,\n",
        "    optimizer=optimizer,\n",
        "    scheduler=scheduler,\n",
        "    loaders=dataloaders,\n",
        "    callbacks=[\n",
        "        AccuracyCallback(num_classes=num_labels),\n",
        "        SchedulerCallback(mode='batch'),\n",
        "    ],\n",
        "    logdir=log_dir,\n",
        "    num_epochs=epochs,\n",
        "    verbose=True,\n",
        ")\n"
      ],
      "execution_count": 0,
      "outputs": [
        {
          "output_type": "stream",
          "text": [
            "1/10 * Epoch (train):   0% 2/1473 [00:00<03:16,  7.49it/s, accuracy01=0.469, loss=0.817, lr=2.717e-08, momentum=0.900]"
          ],
          "name": "stdout"
        },
        {
          "output_type": "stream",
          "text": [
            "/usr/local/lib/python3.6/dist-packages/torch/optim/lr_scheduler.py:231: UserWarning:\n",
            "\n",
            "To get the last learning rate computed by the scheduler, please use `get_last_lr()`.\n",
            "\n"
          ],
          "name": "stderr"
        },
        {
          "output_type": "stream",
          "text": [
            "1/10 * Epoch (train): 100% 1473/1473 [02:25<00:00, 10.13it/s, accuracy01=0.867, loss=0.281, lr=9.473e-06, momentum=0.900]\n",
            "1/10 * Epoch (valid): 100% 633/633 [00:20<00:00, 30.21it/s, accuracy01=1.000, loss=0.370]\n",
            "1/10 * Epoch (test): 100% 28/28 [00:00<00:00, 30.80it/s, accuracy01=0.750, loss=0.456]\n",
            "[2020-05-11 15:52:33,851] \n",
            "1/10 * Epoch 1 (_base): lr=9.473e-06 | momentum=0.9000\n",
            "1/10 * Epoch 1 (train): accuracy01=0.7064 | loss=0.5408 | lr=7.373e-06 | momentum=0.9000\n",
            "1/10 * Epoch 1 (valid): accuracy01=0.8380 | loss=0.3687\n",
            "1/10 * Epoch 1 (test): accuracy01=0.7913 | loss=0.4283\n"
          ],
          "name": "stdout"
        },
        {
          "output_type": "stream",
          "text": [
            "/usr/local/lib/python3.6/dist-packages/torch/optim/lr_scheduler.py:200: UserWarning:\n",
            "\n",
            "Please also save or load the state of the optimzer when saving or loading the scheduler.\n",
            "\n"
          ],
          "name": "stderr"
        },
        {
          "output_type": "stream",
          "text": [
            "2/10 * Epoch (train): 100% 1473/1473 [02:26<00:00, 10.08it/s, accuracy01=0.867, loss=0.240, lr=8.421e-06, momentum=0.900]\n",
            "2/10 * Epoch (valid): 100% 633/633 [00:21<00:00, 30.01it/s, accuracy01=0.833, loss=0.242]\n",
            "2/10 * Epoch (test): 100% 28/28 [00:00<00:00, 30.31it/s, accuracy01=0.875, loss=0.327]\n",
            "[2020-05-11 15:55:23,554] \n",
            "2/10 * Epoch 2 (_base): lr=8.421e-06 | momentum=0.9000\n",
            "2/10 * Epoch 2 (train): accuracy01=0.8434 | loss=0.3586 | lr=8.947e-06 | momentum=0.9000\n",
            "2/10 * Epoch 2 (valid): accuracy01=0.8705 | loss=0.3072\n",
            "2/10 * Epoch 2 (test): accuracy01=0.8304 | loss=0.4082\n",
            "3/10 * Epoch (train): 100% 1473/1473 [02:25<00:00, 10.11it/s, accuracy01=0.800, loss=0.256, lr=7.368e-06, momentum=0.900]\n",
            "3/10 * Epoch (valid): 100% 633/633 [00:20<00:00, 30.29it/s, accuracy01=0.667, loss=0.354]\n",
            "3/10 * Epoch (test): 100% 28/28 [00:00<00:00, 31.20it/s, accuracy01=0.875, loss=0.241]\n",
            "[2020-05-11 15:58:12,536] \n",
            "3/10 * Epoch 3 (_base): lr=7.368e-06 | momentum=0.9000\n",
            "3/10 * Epoch 3 (train): accuracy01=0.8744 | loss=0.3014 | lr=7.894e-06 | momentum=0.9000\n",
            "3/10 * Epoch 3 (valid): accuracy01=0.8833 | loss=0.2806\n",
            "3/10 * Epoch 3 (test): accuracy01=0.8415 | loss=0.3829\n",
            "4/10 * Epoch (train): 100% 1473/1473 [02:25<00:00, 10.13it/s, accuracy01=1.000, loss=0.105, lr=6.316e-06, momentum=0.900]\n",
            "4/10 * Epoch (valid): 100% 633/633 [00:20<00:00, 30.21it/s, accuracy01=0.833, loss=0.349]\n",
            "4/10 * Epoch (test): 100% 28/28 [00:00<00:00, 30.96it/s, accuracy01=0.875, loss=0.221]\n",
            "[2020-05-11 16:01:01,190] \n",
            "4/10 * Epoch 4 (_base): lr=6.316e-06 | momentum=0.9000\n",
            "4/10 * Epoch 4 (train): accuracy01=0.8899 | loss=0.2682 | lr=6.842e-06 | momentum=0.9000\n",
            "4/10 * Epoch 4 (valid): accuracy01=0.8951 | loss=0.2594\n",
            "4/10 * Epoch 4 (test): accuracy01=0.8359 | loss=0.3828\n",
            "5/10 * Epoch (train): 100% 1473/1473 [02:25<00:00, 10.13it/s, accuracy01=0.933, loss=0.254, lr=5.263e-06, momentum=0.900]\n",
            "5/10 * Epoch (valid): 100% 633/633 [00:20<00:00, 30.23it/s, accuracy01=1.000, loss=0.087]\n",
            "5/10 * Epoch (test): 100% 28/28 [00:00<00:00, 30.96it/s, accuracy01=0.875, loss=0.184]\n",
            "[2020-05-11 16:03:49,918] \n",
            "5/10 * Epoch 5 (_base): lr=5.263e-06 | momentum=0.9000\n",
            "5/10 * Epoch 5 (train): accuracy01=0.9018 | loss=0.2437 | lr=5.789e-06 | momentum=0.9000\n",
            "5/10 * Epoch 5 (valid): accuracy01=0.8990 | loss=0.2501\n",
            "5/10 * Epoch 5 (test): accuracy01=0.8404 | loss=0.3920\n",
            "6/10 * Epoch (train): 100% 1473/1473 [02:25<00:00, 10.11it/s, accuracy01=0.867, loss=0.206, lr=4.210e-06, momentum=0.900]\n",
            "6/10 * Epoch (valid): 100% 633/633 [00:20<00:00, 30.19it/s, accuracy01=1.000, loss=0.057]\n",
            "6/10 * Epoch (test): 100% 28/28 [00:00<00:00, 30.53it/s, accuracy01=1.000, loss=0.148]\n",
            "[2020-05-11 16:06:38,835] \n",
            "6/10 * Epoch 6 (_base): lr=4.210e-06 | momentum=0.9000\n",
            "6/10 * Epoch 6 (train): accuracy01=0.9087 | loss=0.2273 | lr=4.736e-06 | momentum=0.9000\n",
            "6/10 * Epoch 6 (valid): accuracy01=0.9050 | loss=0.2400\n",
            "6/10 * Epoch 6 (test): accuracy01=0.8538 | loss=0.3854\n",
            "7/10 * Epoch (train): 100% 1473/1473 [02:25<00:00, 10.14it/s, accuracy01=1.000, loss=0.141, lr=3.158e-06, momentum=0.900]\n",
            "7/10 * Epoch (valid): 100% 633/633 [00:20<00:00, 30.16it/s, accuracy01=0.833, loss=0.179]\n",
            "7/10 * Epoch (test): 100% 28/28 [00:00<00:00, 30.92it/s, accuracy01=0.875, loss=0.196]\n",
            "[2020-05-11 16:09:27,325] \n",
            "7/10 * Epoch 7 (_base): lr=3.158e-06 | momentum=0.9000\n",
            "7/10 * Epoch 7 (train): accuracy01=0.9151 | loss=0.2143 | lr=3.684e-06 | momentum=0.9000\n",
            "7/10 * Epoch 7 (valid): accuracy01=0.9065 | loss=0.2407\n",
            "7/10 * Epoch 7 (test): accuracy01=0.8404 | loss=0.4136\n",
            "8/10 * Epoch (train): 100% 1473/1473 [02:25<00:00, 10.13it/s, accuracy01=1.000, loss=0.024, lr=2.105e-06, momentum=0.900]\n",
            "8/10 * Epoch (valid): 100% 633/633 [00:20<00:00, 30.20it/s, accuracy01=0.833, loss=0.340]\n",
            "8/10 * Epoch (test): 100% 28/28 [00:00<00:00, 30.45it/s, accuracy01=0.875, loss=0.157]\n",
            "[2020-05-11 16:12:15,352] \n",
            "8/10 * Epoch 8 (_base): lr=2.105e-06 | momentum=0.9000\n",
            "8/10 * Epoch 8 (train): accuracy01=0.9197 | loss=0.2034 | lr=2.631e-06 | momentum=0.9000\n",
            "8/10 * Epoch 8 (valid): accuracy01=0.9103 | loss=0.2316\n",
            "8/10 * Epoch 8 (test): accuracy01=0.8482 | loss=0.3968\n",
            "9/10 * Epoch (train): 100% 1473/1473 [02:24<00:00, 10.21it/s, accuracy01=0.933, loss=0.182, lr=1.053e-06, momentum=0.900]\n",
            "9/10 * Epoch (valid): 100% 633/633 [00:20<00:00, 30.34it/s, accuracy01=1.000, loss=0.058]\n",
            "9/10 * Epoch (test): 100% 28/28 [00:00<00:00, 30.99it/s, accuracy01=0.875, loss=0.173]\n",
            "[2020-05-11 16:15:02,956] \n",
            "9/10 * Epoch 9 (_base): lr=1.053e-06 | momentum=0.9000\n",
            "9/10 * Epoch 9 (train): accuracy01=0.9224 | loss=0.1980 | lr=1.579e-06 | momentum=0.9000\n",
            "9/10 * Epoch 9 (valid): accuracy01=0.9117 | loss=0.2312\n",
            "9/10 * Epoch 9 (test): accuracy01=0.8493 | loss=0.4027\n",
            "10/10 * Epoch (train): 100% 1473/1473 [02:24<00:00, 10.21it/s, accuracy01=1.000, loss=0.088, lr=0.000e+00, momentum=0.900]\n",
            "10/10 * Epoch (valid): 100% 633/633 [00:20<00:00, 30.26it/s, accuracy01=1.000, loss=0.073]\n",
            "10/10 * Epoch (test): 100% 28/28 [00:00<00:00, 30.75it/s, accuracy01=0.875, loss=0.173]\n",
            "[2020-05-11 16:17:50,502] \n",
            "10/10 * Epoch 10 (_base): lr=0.000e+00 | momentum=0.9000\n",
            "10/10 * Epoch 10 (train): accuracy01=0.9246 | loss=0.1938 | lr=5.259e-07 | momentum=0.9000\n",
            "10/10 * Epoch 10 (valid): accuracy01=0.9117 | loss=0.2310\n",
            "10/10 * Epoch 10 (test): accuracy01=0.8493 | loss=0.4052\n",
            "Top best models:\n",
            "logs/checkpoints/train.10.pth\t0.2310\n"
          ],
          "name": "stdout"
        }
      ]
    },
    {
      "cell_type": "markdown",
      "metadata": {
        "id": "jNIu3k3BF36b",
        "colab_type": "text"
      },
      "source": [
        "# New Section"
      ]
    },
    {
      "cell_type": "code",
      "metadata": {
        "id": "MgjuVS6CgYwA",
        "colab_type": "code",
        "outputId": "7c679c44-3b6e-4565-f4cc-5b272968e2ee",
        "colab": {
          "base_uri": "https://localhost:8080/",
          "height": 34
        }
      },
      "source": [
        "!ls ./logs/\n"
      ],
      "execution_count": 0,
      "outputs": [
        {
          "output_type": "stream",
          "text": [
            "_base_log  checkpoints\tlog.txt  test_log  train_log  valid_log\n"
          ],
          "name": "stdout"
        }
      ]
    },
    {
      "cell_type": "code",
      "metadata": {
        "id": "UJ-VOGdZ5ZR6",
        "colab_type": "code",
        "outputId": "9711454a-82ef-4f8b-ce8f-ef1f4e27da83",
        "colab": {
          "base_uri": "https://localhost:8080/",
          "height": 1000
        }
      },
      "source": [
        "!cat ./logs/log.txt\n"
      ],
      "execution_count": 0,
      "outputs": [
        {
          "output_type": "stream",
          "text": [
            "[2020-05-11 12:00:06,289] \n",
            "1/10 * Epoch 1 (_base): lr=4.737e-05 | momentum=0.9000\n",
            "1/10 * Epoch 1 (train): accuracy01=0.5708 | loss=0.6787 | lr=3.718e-05 | momentum=0.9000\n",
            "1/10 * Epoch 1 (valid): accuracy01=0.6224 | loss=0.6584\n",
            "1/10 * Epoch 1 (test): accuracy01=0.6280 | loss=0.6481\n",
            "[2020-05-11 12:03:20,993] \n",
            "2/10 * Epoch 2 (_base): lr=4.211e-05 | momentum=0.9000\n",
            "2/10 * Epoch 2 (train): accuracy01=0.7552 | loss=0.5039 | lr=4.470e-05 | momentum=0.9000\n",
            "2/10 * Epoch 2 (valid): accuracy01=0.6644 | loss=0.7001\n",
            "2/10 * Epoch 2 (test): accuracy01=0.6645 | loss=0.6821\n",
            "[2020-05-11 12:05:52,795] \n",
            "3/10 * Epoch 3 (_base): lr=3.684e-05 | momentum=0.9000\n",
            "3/10 * Epoch 3 (train): accuracy01=0.9268 | loss=0.2043 | lr=3.944e-05 | momentum=0.9000\n",
            "3/10 * Epoch 3 (valid): accuracy01=0.6732 | loss=0.9063\n",
            "3/10 * Epoch 3 (test): accuracy01=0.6452 | loss=0.9957\n",
            "[2020-05-11 12:08:27,397] \n",
            "4/10 * Epoch 4 (_base): lr=3.158e-05 | momentum=0.9000\n",
            "4/10 * Epoch 4 (train): accuracy01=0.9835 | loss=0.0556 | lr=3.417e-05 | momentum=0.9000\n",
            "4/10 * Epoch 4 (valid): accuracy01=0.6483 | loss=1.4434\n",
            "4/10 * Epoch 4 (test): accuracy01=0.6784 | loss=1.3239\n",
            "[2020-05-11 12:11:01,238] \n",
            "5/10 * Epoch 5 (_base): lr=2.632e-05 | momentum=0.9000\n",
            "5/10 * Epoch 5 (train): accuracy01=0.9920 | loss=0.0303 | lr=2.891e-05 | momentum=0.9000\n",
            "5/10 * Epoch 5 (valid): accuracy01=0.6902 | loss=1.5549\n",
            "5/10 * Epoch 5 (test): accuracy01=0.6610 | loss=1.5843\n",
            "[2020-05-11 12:13:33,107] \n",
            "6/10 * Epoch 6 (_base): lr=2.105e-05 | momentum=0.9000\n",
            "6/10 * Epoch 6 (train): accuracy01=0.9987 | loss=0.0114 | lr=2.365e-05 | momentum=0.9000\n",
            "6/10 * Epoch 6 (valid): accuracy01=0.6881 | loss=1.5433\n",
            "6/10 * Epoch 6 (test): accuracy01=0.6766 | loss=1.6467\n",
            "[2020-05-11 12:16:08,896] \n",
            "7/10 * Epoch 7 (_base): lr=1.579e-05 | momentum=0.9000\n",
            "7/10 * Epoch 7 (train): accuracy01=0.9978 | loss=0.0124 | lr=1.838e-05 | momentum=0.9000\n",
            "7/10 * Epoch 7 (valid): accuracy01=0.6749 | loss=1.5760\n",
            "7/10 * Epoch 7 (test): accuracy01=0.6799 | loss=1.6406\n",
            "[2020-05-11 12:18:45,152] \n",
            "8/10 * Epoch 8 (_base): lr=1.053e-05 | momentum=0.9000\n",
            "8/10 * Epoch 8 (train): accuracy01=0.9982 | loss=0.0050 | lr=1.312e-05 | momentum=0.9000\n",
            "8/10 * Epoch 8 (valid): accuracy01=0.6849 | loss=1.9442\n",
            "8/10 * Epoch 8 (test): accuracy01=0.6627 | loss=1.8801\n",
            "[2020-05-11 12:21:20,197] \n",
            "9/10 * Epoch 9 (_base): lr=5.263e-06 | momentum=0.9000\n",
            "9/10 * Epoch 9 (train): accuracy01=0.9987 | loss=0.0035 | lr=7.857e-06 | momentum=0.9000\n",
            "9/10 * Epoch 9 (valid): accuracy01=0.6764 | loss=1.8357\n",
            "9/10 * Epoch 9 (test): accuracy01=0.6835 | loss=1.8378\n",
            "[2020-05-11 12:23:55,506] \n",
            "10/10 * Epoch 10 (_base): lr=0.000e+00 | momentum=0.9000\n",
            "10/10 * Epoch 10 (train): accuracy01=1.0000 | loss=0.0018 | lr=2.594e-06 | momentum=0.9000\n",
            "10/10 * Epoch 10 (valid): accuracy01=0.6785 | loss=1.7729\n",
            "10/10 * Epoch 10 (test): accuracy01=0.6974 | loss=1.8229\n",
            "[2020-05-11 12:35:09,399] \n",
            "1/10 * Epoch 1 (_base): lr=9.224e-07 | momentum=0.9000\n",
            "1/10 * Epoch 1 (train): accuracy01=1.0000 | loss=0.0008 | lr=8.558e-07 | momentum=0.9000\n",
            "1/10 * Epoch 1 (valid): accuracy01=0.6753 | loss=1.7543\n",
            "1/10 * Epoch 1 (test): accuracy01=0.7044 | loss=1.8399\n",
            "[2020-05-11 12:38:26,617] \n",
            "2/10 * Epoch 2 (_base): lr=8.199e-07 | momentum=0.9000\n",
            "2/10 * Epoch 2 (train): accuracy01=1.0000 | loss=0.0005 | lr=8.704e-07 | momentum=0.9000\n",
            "2/10 * Epoch 2 (valid): accuracy01=0.6746 | loss=1.8061\n",
            "2/10 * Epoch 2 (test): accuracy01=0.7044 | loss=1.8874\n",
            "[2020-05-11 12:41:00,006] \n",
            "3/10 * Epoch 3 (_base): lr=7.174e-07 | momentum=0.9000\n",
            "3/10 * Epoch 3 (train): accuracy01=1.0000 | loss=0.0004 | lr=7.679e-07 | momentum=0.9000\n",
            "3/10 * Epoch 3 (valid): accuracy01=0.6725 | loss=1.8782\n",
            "3/10 * Epoch 3 (test): accuracy01=0.6974 | loss=1.9348\n",
            "[2020-05-11 12:43:34,330] \n",
            "4/10 * Epoch 4 (_base): lr=6.149e-07 | momentum=0.9000\n",
            "4/10 * Epoch 4 (train): accuracy01=1.0000 | loss=0.0007 | lr=6.654e-07 | momentum=0.9000\n",
            "4/10 * Epoch 4 (valid): accuracy01=0.6725 | loss=2.0022\n",
            "4/10 * Epoch 4 (test): accuracy01=0.6835 | loss=2.0139\n",
            "[2020-05-11 12:47:19,106] \n",
            "1/10 * Epoch 1 (_base): lr=9.474e-06 | momentum=0.9000\n",
            "1/10 * Epoch 1 (train): accuracy01=0.000e+00 | loss=-1.795e-08 | lr=7.436e-06 | momentum=0.9000\n",
            "1/10 * Epoch 1 (valid): accuracy01=0.000e+00 | loss=-3.472e-09\n",
            "1/10 * Epoch 1 (test): accuracy01=0.000e+00 | loss=-1.042e-08\n",
            "[2020-05-11 12:47:23,308] \n",
            "2/10 * Epoch 2 (_base): lr=8.421e-06 | momentum=0.9000\n",
            "2/10 * Epoch 2 (train): accuracy01=0.000e+00 | loss=-1.750e-08 | lr=8.940e-06 | momentum=0.9000\n",
            "2/10 * Epoch 2 (valid): accuracy01=0.000e+00 | loss=0.0109\n",
            "2/10 * Epoch 2 (test): accuracy01=0.000e+00 | loss=0.000e+00\n",
            "[2020-05-11 12:47:27,837] \n",
            "3/10 * Epoch 3 (_base): lr=7.368e-06 | momentum=0.9000\n",
            "3/10 * Epoch 3 (train): accuracy01=0.000e+00 | loss=-1.339e-08 | lr=7.887e-06 | momentum=0.9000\n",
            "3/10 * Epoch 3 (valid): accuracy01=0.000e+00 | loss=0.0099\n",
            "3/10 * Epoch 3 (test): accuracy01=0.000e+00 | loss=-1.042e-08\n",
            "[2020-05-11 12:47:30,729] \n",
            "4/10 * Epoch 4 (_base): lr=6.316e-06 | momentum=0.9000\n",
            "4/10 * Epoch 4 (train): accuracy01=0.000e+00 | loss=-1.527e-08 | lr=6.835e-06 | momentum=0.9000\n",
            "4/10 * Epoch 4 (valid): accuracy01=0.000e+00 | loss=0.0053\n",
            "4/10 * Epoch 4 (test): accuracy01=0.000e+00 | loss=-1.042e-08\n",
            "[2020-05-11 12:47:33,667] \n",
            "5/10 * Epoch 5 (_base): lr=5.263e-06 | momentum=0.9000\n",
            "5/10 * Epoch 5 (train): accuracy01=0.000e+00 | loss=-1.527e-08 | lr=5.782e-06 | momentum=0.9000\n",
            "5/10 * Epoch 5 (valid): accuracy01=0.000e+00 | loss=-3.114e-46\n",
            "5/10 * Epoch 5 (test): accuracy01=0.000e+00 | loss=-1.042e-08\n",
            "[2020-05-11 12:47:36,550] \n",
            "6/10 * Epoch 6 (_base): lr=4.211e-06 | momentum=0.9000\n",
            "6/10 * Epoch 6 (train): accuracy01=0.000e+00 | loss=-1.437e-08 | lr=4.729e-06 | momentum=0.9000\n",
            "6/10 * Epoch 6 (valid): accuracy01=0.000e+00 | loss=-3.472e-09\n",
            "6/10 * Epoch 6 (test): accuracy01=0.000e+00 | loss=-1.042e-08\n",
            "[2020-05-11 12:47:39,485] \n",
            "7/10 * Epoch 7 (_base): lr=3.158e-06 | momentum=0.9000\n",
            "7/10 * Epoch 7 (train): accuracy01=0.000e+00 | loss=-1.607e-08 | lr=3.677e-06 | momentum=0.9000\n",
            "7/10 * Epoch 7 (valid): accuracy01=0.000e+00 | loss=-3.472e-09\n",
            "7/10 * Epoch 7 (test): accuracy01=0.000e+00 | loss=-1.042e-08\n",
            "[2020-05-11 12:47:42,449] \n",
            "8/10 * Epoch 8 (_base): lr=2.105e-06 | momentum=0.9000\n",
            "8/10 * Epoch 8 (train): accuracy01=0.000e+00 | loss=-1.437e-08 | lr=2.624e-06 | momentum=0.9000\n",
            "8/10 * Epoch 8 (valid): accuracy01=0.000e+00 | loss=0.0098\n",
            "8/10 * Epoch 8 (test): accuracy01=0.000e+00 | loss=-1.042e-08\n",
            "[2020-05-11 12:47:45,416] \n",
            "9/10 * Epoch 9 (_base): lr=1.053e-06 | momentum=0.9000\n",
            "9/10 * Epoch 9 (train): accuracy01=0.000e+00 | loss=-1.562e-08 | lr=1.571e-06 | momentum=0.9000\n",
            "9/10 * Epoch 9 (valid): accuracy01=0.000e+00 | loss=0.0071\n",
            "9/10 * Epoch 9 (test): accuracy01=0.000e+00 | loss=-1.042e-08\n",
            "[2020-05-11 12:47:48,303] \n",
            "10/10 * Epoch 10 (_base): lr=0.000e+00 | momentum=0.9000\n",
            "10/10 * Epoch 10 (train): accuracy01=0.000e+00 | loss=-1.384e-08 | lr=5.188e-07 | momentum=0.9000\n",
            "10/10 * Epoch 10 (valid): accuracy01=0.000e+00 | loss=-6.944e-09\n",
            "10/10 * Epoch 10 (test): accuracy01=0.000e+00 | loss=-1.042e-08\n",
            "[2020-05-11 12:49:04,679] \n",
            "1/10 * Epoch 1 (_base): lr=9.474e-06 | momentum=0.9000\n",
            "1/10 * Epoch 1 (train): accuracy01=0.4899 | loss=0.7495 | lr=7.436e-06 | momentum=0.9000\n",
            "1/10 * Epoch 1 (valid): accuracy01=0.5312 | loss=0.7028\n",
            "1/10 * Epoch 1 (test): accuracy01=0.5270 | loss=0.7085\n",
            "[2020-05-11 12:49:08,446] \n",
            "2/10 * Epoch 2 (_base): lr=8.421e-06 | momentum=0.9000\n",
            "2/10 * Epoch 2 (train): accuracy01=0.5089 | loss=0.7265 | lr=8.940e-06 | momentum=0.9000\n",
            "2/10 * Epoch 2 (valid): accuracy01=0.5312 | loss=0.6979\n",
            "2/10 * Epoch 2 (test): accuracy01=0.5304 | loss=0.7005\n",
            "[2020-05-11 12:49:12,468] \n",
            "3/10 * Epoch 3 (_base): lr=7.368e-06 | momentum=0.9000\n",
            "3/10 * Epoch 3 (train): accuracy01=0.5229 | loss=0.7183 | lr=7.887e-06 | momentum=0.9000\n",
            "3/10 * Epoch 3 (valid): accuracy01=0.5382 | loss=0.6927\n",
            "3/10 * Epoch 3 (test): accuracy01=0.5357 | loss=0.6966\n",
            "[2020-05-11 12:49:16,523] \n",
            "4/10 * Epoch 4 (_base): lr=6.316e-06 | momentum=0.9000\n",
            "4/10 * Epoch 4 (train): accuracy01=0.5371 | loss=0.7117 | lr=6.835e-06 | momentum=0.9000\n",
            "4/10 * Epoch 4 (valid): accuracy01=0.5729 | loss=0.6878\n",
            "4/10 * Epoch 4 (test): accuracy01=0.5357 | loss=0.6948\n",
            "[2020-05-11 12:49:20,606] \n",
            "5/10 * Epoch 5 (_base): lr=5.263e-06 | momentum=0.9000\n",
            "5/10 * Epoch 5 (train): accuracy01=0.5260 | loss=0.7105 | lr=5.782e-06 | momentum=0.9000\n",
            "5/10 * Epoch 5 (valid): accuracy01=0.5556 | loss=0.6910\n",
            "5/10 * Epoch 5 (test): accuracy01=0.5392 | loss=0.6917\n",
            "[2020-05-11 12:49:23,502] \n",
            "6/10 * Epoch 6 (_base): lr=4.211e-06 | momentum=0.9000\n",
            "6/10 * Epoch 6 (train): accuracy01=0.5477 | loss=0.6997 | lr=4.729e-06 | momentum=0.9000\n",
            "6/10 * Epoch 6 (valid): accuracy01=0.5556 | loss=0.6930\n",
            "6/10 * Epoch 6 (test): accuracy01=0.5531 | loss=0.6903\n",
            "[2020-05-11 12:49:26,447] \n",
            "7/10 * Epoch 7 (_base): lr=3.158e-06 | momentum=0.9000\n",
            "7/10 * Epoch 7 (train): accuracy01=0.5484 | loss=0.6967 | lr=3.677e-06 | momentum=0.9000\n",
            "7/10 * Epoch 7 (valid): accuracy01=0.5590 | loss=0.6972\n",
            "7/10 * Epoch 7 (test): accuracy01=0.5478 | loss=0.6893\n",
            "[2020-05-11 12:49:29,490] \n",
            "8/10 * Epoch 8 (_base): lr=2.105e-06 | momentum=0.9000\n",
            "8/10 * Epoch 8 (train): accuracy01=0.5358 | loss=0.7018 | lr=2.624e-06 | momentum=0.9000\n",
            "8/10 * Epoch 8 (valid): accuracy01=0.5521 | loss=0.6923\n",
            "8/10 * Epoch 8 (test): accuracy01=0.5549 | loss=0.6885\n",
            "[2020-05-11 12:49:32,410] \n",
            "9/10 * Epoch 9 (_base): lr=1.053e-06 | momentum=0.9000\n",
            "9/10 * Epoch 9 (train): accuracy01=0.5512 | loss=0.6958 | lr=1.571e-06 | momentum=0.9000\n",
            "9/10 * Epoch 9 (valid): accuracy01=0.5521 | loss=0.6942\n",
            "9/10 * Epoch 9 (test): accuracy01=0.5549 | loss=0.6881\n",
            "[2020-05-11 12:49:35,401] \n",
            "10/10 * Epoch 10 (_base): lr=0.000e+00 | momentum=0.9000\n",
            "10/10 * Epoch 10 (train): accuracy01=0.5589 | loss=0.6984 | lr=5.188e-07 | momentum=0.9000\n",
            "10/10 * Epoch 10 (valid): accuracy01=0.5486 | loss=0.6955\n",
            "10/10 * Epoch 10 (test): accuracy01=0.5531 | loss=0.6879\n",
            "[2020-05-11 13:34:20,845] \n",
            "1/10 * Epoch 1 (_base): lr=9.474e-06 | momentum=0.9000\n",
            "1/10 * Epoch 1 (train): accuracy01=0.4829 | loss=0.7371 | lr=7.436e-06 | momentum=0.9000\n",
            "1/10 * Epoch 1 (valid): accuracy01=0.4861 | loss=0.7139\n",
            "1/10 * Epoch 1 (test): accuracy01=0.4975 | loss=0.7242\n",
            "[2020-05-11 13:34:26,459] \n",
            "2/10 * Epoch 2 (_base): lr=8.421e-06 | momentum=0.9000\n",
            "2/10 * Epoch 2 (train): accuracy01=0.5094 | loss=0.7188 | lr=8.940e-06 | momentum=0.9000\n",
            "2/10 * Epoch 2 (valid): accuracy01=0.4931 | loss=0.7187\n",
            "2/10 * Epoch 2 (test): accuracy01=0.5270 | loss=0.7125\n",
            "[2020-05-11 13:34:31,732] \n",
            "3/10 * Epoch 3 (_base): lr=7.368e-06 | momentum=0.9000\n",
            "3/10 * Epoch 3 (train): accuracy01=0.5324 | loss=0.7026 | lr=7.887e-06 | momentum=0.9000\n",
            "3/10 * Epoch 3 (valid): accuracy01=0.5104 | loss=0.7072\n",
            "3/10 * Epoch 3 (test): accuracy01=0.5270 | loss=0.7075\n",
            "[2020-05-11 13:34:37,653] \n",
            "4/10 * Epoch 4 (_base): lr=6.316e-06 | momentum=0.9000\n",
            "4/10 * Epoch 4 (train): accuracy01=0.5496 | loss=0.6903 | lr=6.835e-06 | momentum=0.9000\n",
            "4/10 * Epoch 4 (valid): accuracy01=0.5104 | loss=0.6990\n",
            "4/10 * Epoch 4 (test): accuracy01=0.5147 | loss=0.7078\n",
            "[2020-05-11 13:34:43,263] \n",
            "5/10 * Epoch 5 (_base): lr=5.263e-06 | momentum=0.9000\n",
            "5/10 * Epoch 5 (train): accuracy01=0.5429 | loss=0.6870 | lr=5.782e-06 | momentum=0.9000\n",
            "5/10 * Epoch 5 (valid): accuracy01=0.5104 | loss=0.7039\n",
            "5/10 * Epoch 5 (test): accuracy01=0.5288 | loss=0.7021\n",
            "[2020-05-11 13:34:48,158] \n",
            "6/10 * Epoch 6 (_base): lr=4.211e-06 | momentum=0.9000\n",
            "6/10 * Epoch 6 (train): accuracy01=0.5879 | loss=0.6716 | lr=4.729e-06 | momentum=0.9000\n",
            "6/10 * Epoch 6 (valid): accuracy01=0.5451 | loss=0.6955\n",
            "6/10 * Epoch 6 (test): accuracy01=0.5357 | loss=0.6999\n",
            "[2020-05-11 13:34:53,789] \n",
            "7/10 * Epoch 7 (_base): lr=3.158e-06 | momentum=0.9000\n",
            "7/10 * Epoch 7 (train): accuracy01=0.5794 | loss=0.6705 | lr=3.677e-06 | momentum=0.9000\n",
            "7/10 * Epoch 7 (valid): accuracy01=0.5417 | loss=0.7001\n",
            "7/10 * Epoch 7 (test): accuracy01=0.5688 | loss=0.6985\n",
            "[2020-05-11 13:35:04,676] \n",
            "8/10 * Epoch 8 (_base): lr=2.105e-06 | momentum=0.9000\n",
            "8/10 * Epoch 8 (train): accuracy01=0.5933 | loss=0.6682 | lr=2.624e-06 | momentum=0.9000\n",
            "8/10 * Epoch 8 (valid): accuracy01=0.5486 | loss=0.6930\n",
            "8/10 * Epoch 8 (test): accuracy01=0.5322 | loss=0.6973\n",
            "[2020-05-11 13:35:13,920] \n",
            "9/10 * Epoch 9 (_base): lr=1.053e-06 | momentum=0.9000\n",
            "9/10 * Epoch 9 (train): accuracy01=0.5916 | loss=0.6682 | lr=1.571e-06 | momentum=0.9000\n",
            "9/10 * Epoch 9 (valid): accuracy01=0.5451 | loss=0.6915\n",
            "9/10 * Epoch 9 (test): accuracy01=0.5322 | loss=0.6971\n",
            "[2020-05-11 13:35:26,468] \n",
            "10/10 * Epoch 10 (_base): lr=0.000e+00 | momentum=0.9000\n",
            "10/10 * Epoch 10 (train): accuracy01=0.5961 | loss=0.6604 | lr=5.188e-07 | momentum=0.9000\n",
            "10/10 * Epoch 10 (valid): accuracy01=0.5278 | loss=0.6965\n",
            "10/10 * Epoch 10 (test): accuracy01=0.5392 | loss=0.6971\n",
            "[2020-05-11 13:43:03,273] \n",
            "1/30 * Epoch 1 (_base): lr=9.831e-06 | momentum=0.9000\n",
            "1/30 * Epoch 1 (train): accuracy01=0.6049 | loss=0.6553 | lr=7.528e-06 | momentum=0.9000\n",
            "1/30 * Epoch 1 (valid): accuracy01=0.5417 | loss=0.6862\n",
            "1/30 * Epoch 1 (test): accuracy01=0.5306 | loss=0.6957\n",
            "[2020-05-11 13:43:09,398] \n",
            "2/30 * Epoch 2 (_base): lr=9.492e-06 | momentum=0.9000\n",
            "2/30 * Epoch 2 (train): accuracy01=0.6139 | loss=0.6444 | lr=9.659e-06 | momentum=0.9000\n",
            "2/30 * Epoch 2 (valid): accuracy01=0.5382 | loss=0.7012\n",
            "2/30 * Epoch 2 (test): accuracy01=0.5794 | loss=0.6965\n",
            "[2020-05-11 13:43:14,268] \n",
            "3/30 * Epoch 3 (_base): lr=9.153e-06 | momentum=0.9000\n",
            "3/30 * Epoch 3 (train): accuracy01=0.6389 | loss=0.6344 | lr=9.320e-06 | momentum=0.9000\n",
            "3/30 * Epoch 3 (valid): accuracy01=0.5521 | loss=0.6900\n",
            "3/30 * Epoch 3 (test): accuracy01=0.5532 | loss=0.6926\n",
            "[2020-05-11 13:43:19,723] \n",
            "4/30 * Epoch 4 (_base): lr=8.814e-06 | momentum=0.9000\n",
            "4/30 * Epoch 4 (train): accuracy01=0.6579 | loss=0.6195 | lr=8.981e-06 | momentum=0.9000\n",
            "4/30 * Epoch 4 (valid): accuracy01=0.5764 | loss=0.6849\n",
            "4/30 * Epoch 4 (test): accuracy01=0.5655 | loss=0.6929\n",
            "[2020-05-11 13:43:25,330] \n",
            "5/30 * Epoch 5 (_base): lr=8.475e-06 | momentum=0.9000\n",
            "5/30 * Epoch 5 (train): accuracy01=0.6651 | loss=0.6113 | lr=8.642e-06 | momentum=0.9000\n",
            "5/30 * Epoch 5 (valid): accuracy01=0.5660 | loss=0.6998\n",
            "5/30 * Epoch 5 (test): accuracy01=0.5706 | loss=0.6975\n",
            "[2020-05-11 13:43:30,202] \n",
            "6/30 * Epoch 6 (_base): lr=8.136e-06 | momentum=0.9000\n",
            "6/30 * Epoch 6 (train): accuracy01=0.6974 | loss=0.5917 | lr=8.303e-06 | momentum=0.9000\n",
            "6/30 * Epoch 6 (valid): accuracy01=0.5625 | loss=0.6918\n",
            "6/30 * Epoch 6 (test): accuracy01=0.5689 | loss=0.6939\n",
            "[2020-05-11 13:43:35,123] \n",
            "7/30 * Epoch 7 (_base): lr=7.797e-06 | momentum=0.9000\n",
            "7/30 * Epoch 7 (train): accuracy01=0.6927 | loss=0.5837 | lr=7.964e-06 | momentum=0.9000\n",
            "7/30 * Epoch 7 (valid): accuracy01=0.5660 | loss=0.7072\n",
            "7/30 * Epoch 7 (test): accuracy01=0.5602 | loss=0.6970\n",
            "[2020-05-11 13:43:41,278] \n",
            "8/30 * Epoch 8 (_base): lr=7.458e-06 | momentum=0.9000\n",
            "8/30 * Epoch 8 (train): accuracy01=0.7027 | loss=0.5760 | lr=7.625e-06 | momentum=0.9000\n",
            "8/30 * Epoch 8 (valid): accuracy01=0.5660 | loss=0.6985\n",
            "8/30 * Epoch 8 (test): accuracy01=0.5602 | loss=0.6976\n",
            "[2020-05-11 13:43:46,199] \n",
            "9/30 * Epoch 9 (_base): lr=7.119e-06 | momentum=0.9000\n",
            "9/30 * Epoch 9 (train): accuracy01=0.7077 | loss=0.5684 | lr=7.286e-06 | momentum=0.9000\n",
            "9/30 * Epoch 9 (valid): accuracy01=0.5694 | loss=0.7046\n",
            "9/30 * Epoch 9 (test): accuracy01=0.5498 | loss=0.7076\n",
            "[2020-05-11 13:43:51,593] \n",
            "10/30 * Epoch 10 (_base): lr=6.780e-06 | momentum=0.9000\n",
            "10/30 * Epoch 10 (train): accuracy01=0.7353 | loss=0.5473 | lr=6.947e-06 | momentum=0.9000\n",
            "10/30 * Epoch 10 (valid): accuracy01=0.5972 | loss=0.6964\n",
            "10/30 * Epoch 10 (test): accuracy01=0.5339 | loss=0.7020\n",
            "[2020-05-11 13:44:02,542] \n",
            "11/30 * Epoch 11 (_base): lr=6.441e-06 | momentum=0.9000\n",
            "11/30 * Epoch 11 (train): accuracy01=0.7309 | loss=0.5382 | lr=6.608e-06 | momentum=0.9000\n",
            "11/30 * Epoch 11 (valid): accuracy01=0.6111 | loss=0.6917\n",
            "11/30 * Epoch 11 (test): accuracy01=0.5322 | loss=0.7046\n",
            "[2020-05-11 13:44:10,912] \n",
            "12/30 * Epoch 12 (_base): lr=6.102e-06 | momentum=0.9000\n",
            "12/30 * Epoch 12 (train): accuracy01=0.7408 | loss=0.5316 | lr=6.269e-06 | momentum=0.9000\n",
            "12/30 * Epoch 12 (valid): accuracy01=0.5868 | loss=0.7129\n",
            "12/30 * Epoch 12 (test): accuracy01=0.5531 | loss=0.7161\n",
            "[2020-05-11 13:44:15,641] \n",
            "13/30 * Epoch 13 (_base): lr=5.763e-06 | momentum=0.9000\n",
            "13/30 * Epoch 13 (train): accuracy01=0.7820 | loss=0.5063 | lr=5.930e-06 | momentum=0.9000\n",
            "13/30 * Epoch 13 (valid): accuracy01=0.5556 | loss=0.7553\n",
            "13/30 * Epoch 13 (test): accuracy01=0.5653 | loss=0.7259\n",
            "[2020-05-11 13:44:21,523] \n",
            "14/30 * Epoch 14 (_base): lr=5.424e-06 | momentum=0.9000\n",
            "14/30 * Epoch 14 (train): accuracy01=0.7626 | loss=0.4950 | lr=5.591e-06 | momentum=0.9000\n",
            "14/30 * Epoch 14 (valid): accuracy01=0.5833 | loss=0.7355\n",
            "14/30 * Epoch 14 (test): accuracy01=0.5496 | loss=0.7280\n",
            "[2020-05-11 13:44:32,100] \n",
            "15/30 * Epoch 15 (_base): lr=5.085e-06 | momentum=0.9000\n",
            "15/30 * Epoch 15 (train): accuracy01=0.7833 | loss=0.4828 | lr=5.252e-06 | momentum=0.9000\n",
            "15/30 * Epoch 15 (valid): accuracy01=0.5903 | loss=0.7309\n",
            "15/30 * Epoch 15 (test): accuracy01=0.5461 | loss=0.7330\n",
            "[2020-05-11 13:44:36,930] \n",
            "16/30 * Epoch 16 (_base): lr=4.746e-06 | momentum=0.9000\n",
            "16/30 * Epoch 16 (train): accuracy01=0.7887 | loss=0.4719 | lr=4.913e-06 | momentum=0.9000\n",
            "16/30 * Epoch 16 (valid): accuracy01=0.5903 | loss=0.7211\n",
            "16/30 * Epoch 16 (test): accuracy01=0.5496 | loss=0.7274\n",
            "[2020-05-11 13:44:47,760] \n",
            "17/30 * Epoch 17 (_base): lr=4.407e-06 | momentum=0.9000\n",
            "17/30 * Epoch 17 (train): accuracy01=0.7907 | loss=0.4651 | lr=4.574e-06 | momentum=0.9000\n",
            "17/30 * Epoch 17 (valid): accuracy01=0.6007 | loss=0.7340\n",
            "17/30 * Epoch 17 (test): accuracy01=0.5496 | loss=0.7372\n",
            "[2020-05-11 13:44:57,367] \n",
            "18/30 * Epoch 18 (_base): lr=4.068e-06 | momentum=0.9000\n",
            "18/30 * Epoch 18 (train): accuracy01=0.8034 | loss=0.4602 | lr=4.235e-06 | momentum=0.9000\n",
            "18/30 * Epoch 18 (valid): accuracy01=0.5972 | loss=0.7437\n",
            "18/30 * Epoch 18 (test): accuracy01=0.5531 | loss=0.7488\n",
            "[2020-05-11 13:45:02,118] \n",
            "19/30 * Epoch 19 (_base): lr=3.729e-06 | momentum=0.9000\n",
            "19/30 * Epoch 19 (train): accuracy01=0.8073 | loss=0.4421 | lr=3.896e-06 | momentum=0.9000\n",
            "19/30 * Epoch 19 (valid): accuracy01=0.5694 | loss=0.7762\n",
            "19/30 * Epoch 19 (test): accuracy01=0.5565 | loss=0.7712\n",
            "[2020-05-11 13:45:07,888] \n",
            "20/30 * Epoch 20 (_base): lr=3.390e-06 | momentum=0.9000\n",
            "20/30 * Epoch 20 (train): accuracy01=0.8043 | loss=0.4414 | lr=3.557e-06 | momentum=0.9000\n",
            "20/30 * Epoch 20 (valid): accuracy01=0.5799 | loss=0.7670\n",
            "20/30 * Epoch 20 (test): accuracy01=0.5514 | loss=0.7587\n",
            "[2020-05-11 13:45:18,221] \n",
            "21/30 * Epoch 21 (_base): lr=3.051e-06 | momentum=0.9000\n",
            "21/30 * Epoch 21 (train): accuracy01=0.8174 | loss=0.4246 | lr=3.218e-06 | momentum=0.9000\n",
            "21/30 * Epoch 21 (valid): accuracy01=0.5903 | loss=0.7812\n",
            "21/30 * Epoch 21 (test): accuracy01=0.5496 | loss=0.7775\n",
            "[2020-05-11 13:45:23,006] \n",
            "22/30 * Epoch 22 (_base): lr=2.712e-06 | momentum=0.9000\n",
            "22/30 * Epoch 22 (train): accuracy01=0.8171 | loss=0.4184 | lr=2.879e-06 | momentum=0.9000\n",
            "22/30 * Epoch 22 (valid): accuracy01=0.5833 | loss=0.7893\n",
            "22/30 * Epoch 22 (test): accuracy01=0.5565 | loss=0.7771\n",
            "[2020-05-11 13:45:33,795] \n",
            "23/30 * Epoch 23 (_base): lr=2.373e-06 | momentum=0.9000\n",
            "23/30 * Epoch 23 (train): accuracy01=0.8182 | loss=0.4133 | lr=2.540e-06 | momentum=0.9000\n",
            "23/30 * Epoch 23 (valid): accuracy01=0.5799 | loss=0.7889\n",
            "23/30 * Epoch 23 (test): accuracy01=0.5584 | loss=0.7828\n",
            "[2020-05-11 13:45:38,607] \n",
            "24/30 * Epoch 24 (_base): lr=2.034e-06 | momentum=0.9000\n",
            "24/30 * Epoch 24 (train): accuracy01=0.8388 | loss=0.3976 | lr=2.201e-06 | momentum=0.9000\n",
            "24/30 * Epoch 24 (valid): accuracy01=0.5938 | loss=0.7765\n",
            "24/30 * Epoch 24 (test): accuracy01=0.5584 | loss=0.7835\n",
            "[2020-05-11 13:45:46,086] \n",
            "25/30 * Epoch 25 (_base): lr=1.695e-06 | momentum=0.9000\n",
            "25/30 * Epoch 25 (train): accuracy01=0.8280 | loss=0.4039 | lr=1.862e-06 | momentum=0.9000\n",
            "25/30 * Epoch 25 (valid): accuracy01=0.5868 | loss=0.7841\n",
            "25/30 * Epoch 25 (test): accuracy01=0.5584 | loss=0.7876\n",
            "[2020-05-11 13:45:56,241] \n",
            "26/30 * Epoch 26 (_base): lr=1.356e-06 | momentum=0.9000\n",
            "26/30 * Epoch 26 (train): accuracy01=0.8390 | loss=0.3923 | lr=1.523e-06 | momentum=0.9000\n",
            "26/30 * Epoch 26 (valid): accuracy01=0.5729 | loss=0.8116\n",
            "26/30 * Epoch 26 (test): accuracy01=0.5584 | loss=0.7943\n",
            "[2020-05-11 13:46:01,005] \n",
            "27/30 * Epoch 27 (_base): lr=1.017e-06 | momentum=0.9000\n",
            "27/30 * Epoch 27 (train): accuracy01=0.8499 | loss=0.3879 | lr=1.184e-06 | momentum=0.9000\n",
            "27/30 * Epoch 27 (valid): accuracy01=0.5937 | loss=0.7936\n",
            "27/30 * Epoch 27 (test): accuracy01=0.5549 | loss=0.7956\n",
            "[2020-05-11 13:46:11,514] \n",
            "28/30 * Epoch 28 (_base): lr=6.780e-07 | momentum=0.9000\n",
            "28/30 * Epoch 28 (train): accuracy01=0.8392 | loss=0.3828 | lr=8.450e-07 | momentum=0.9000\n",
            "28/30 * Epoch 28 (valid): accuracy01=0.5868 | loss=0.8041\n",
            "28/30 * Epoch 28 (test): accuracy01=0.5531 | loss=0.7992\n",
            "[2020-05-11 13:46:16,311] \n",
            "29/30 * Epoch 29 (_base): lr=3.390e-07 | momentum=0.9000\n",
            "29/30 * Epoch 29 (train): accuracy01=0.8387 | loss=0.3910 | lr=5.061e-07 | momentum=0.9000\n",
            "29/30 * Epoch 29 (valid): accuracy01=0.5868 | loss=0.8021\n",
            "29/30 * Epoch 29 (test): accuracy01=0.5565 | loss=0.8006\n",
            "[2020-05-11 13:46:26,918] \n",
            "30/30 * Epoch 30 (_base): lr=0.000e+00 | momentum=0.9000\n",
            "30/30 * Epoch 30 (train): accuracy01=0.8361 | loss=0.3841 | lr=1.671e-07 | momentum=0.9000\n",
            "30/30 * Epoch 30 (valid): accuracy01=0.5799 | loss=0.8112\n",
            "30/30 * Epoch 30 (test): accuracy01=0.5618 | loss=0.7988\n",
            "[2020-05-11 13:55:02,045] \n",
            "1/4 * Epoch 1 (_base): lr=4.286e-05 | momentum=0.9000\n",
            "1/4 * Epoch 1 (train): accuracy01=0.8324 | loss=0.3842 | lr=3.602e-05 | momentum=0.9000\n",
            "1/4 * Epoch 1 (valid): accuracy01=0.5764 | loss=0.8161\n",
            "1/4 * Epoch 1 (test): accuracy01=0.5704 | loss=0.8486\n",
            "[2020-05-11 13:55:07,882] \n",
            "2/4 * Epoch 2 (_base): lr=2.857e-05 | momentum=0.9000\n",
            "2/4 * Epoch 2 (train): accuracy01=0.8771 | loss=0.3081 | lr=3.561e-05 | momentum=0.9000\n",
            "2/4 * Epoch 2 (valid): accuracy01=0.5903 | loss=0.9754\n",
            "2/4 * Epoch 2 (test): accuracy01=0.5408 | loss=0.9975\n",
            "[2020-05-11 13:55:12,851] \n",
            "3/4 * Epoch 3 (_base): lr=1.429e-05 | momentum=0.9000\n",
            "3/4 * Epoch 3 (train): accuracy01=0.9016 | loss=0.2543 | lr=2.133e-05 | momentum=0.9000\n",
            "3/4 * Epoch 3 (valid): accuracy01=0.5729 | loss=1.0347\n",
            "3/4 * Epoch 3 (test): accuracy01=0.5514 | loss=1.0507\n",
            "[2020-05-11 13:55:17,659] \n",
            "4/4 * Epoch 4 (_base): lr=0.000e+00 | momentum=0.9000\n",
            "4/4 * Epoch 4 (train): accuracy01=0.9204 | loss=0.2175 | lr=7.041e-06 | momentum=0.9000\n",
            "4/4 * Epoch 4 (valid): accuracy01=0.5694 | loss=0.9970\n",
            "4/4 * Epoch 4 (test): accuracy01=0.5532 | loss=1.0367\n",
            "[2020-05-11 14:02:03,342] \n",
            "1/4 * Epoch 1 (_base): lr=4.286e-06 | momentum=0.9000\n",
            "1/4 * Epoch 1 (train): accuracy01=0.9603 | loss=0.1498 | lr=3.602e-06 | momentum=0.9000\n",
            "1/4 * Epoch 1 (valid): accuracy01=0.5660 | loss=1.0125\n",
            "1/4 * Epoch 1 (test): accuracy01=0.5655 | loss=1.0604\n",
            "[2020-05-11 14:02:08,913] \n",
            "2/4 * Epoch 2 (_base): lr=2.857e-06 | momentum=0.9000\n",
            "2/4 * Epoch 2 (train): accuracy01=0.9679 | loss=0.1294 | lr=3.561e-06 | momentum=0.9000\n",
            "2/4 * Epoch 2 (valid): accuracy01=0.5868 | loss=1.0733\n",
            "2/4 * Epoch 2 (test): accuracy01=0.5514 | loss=1.1122\n",
            "[2020-05-11 14:02:13,760] \n",
            "3/4 * Epoch 3 (_base): lr=1.429e-06 | momentum=0.9000\n",
            "3/4 * Epoch 3 (train): accuracy01=0.9612 | loss=0.1453 | lr=2.133e-06 | momentum=0.9000\n",
            "3/4 * Epoch 3 (valid): accuracy01=0.5764 | loss=1.1035\n",
            "3/4 * Epoch 3 (test): accuracy01=0.5585 | loss=1.1234\n",
            "[2020-05-11 14:02:18,865] \n",
            "4/4 * Epoch 4 (_base): lr=0.000e+00 | momentum=0.9000\n",
            "4/4 * Epoch 4 (train): accuracy01=0.9396 | loss=0.1766 | lr=7.041e-07 | momentum=0.9000\n",
            "4/4 * Epoch 4 (valid): accuracy01=0.5799 | loss=1.0918\n",
            "4/4 * Epoch 4 (test): accuracy01=0.5532 | loss=1.1272\n",
            "[2020-05-11 14:06:39,724] \n",
            "1/10 * Epoch 1 (_base): lr=9.474e-06 | momentum=0.9000\n",
            "1/10 * Epoch 1 (train): accuracy01=0.5236 | loss=0.7244 | lr=7.436e-06 | momentum=0.9000\n",
            "1/10 * Epoch 1 (valid): accuracy01=0.5035 | loss=0.7056\n",
            "1/10 * Epoch 1 (test): accuracy01=0.5025 | loss=0.6951\n",
            "[2020-05-11 14:06:44,884] \n",
            "2/10 * Epoch 2 (_base): lr=8.421e-06 | momentum=0.9000\n",
            "2/10 * Epoch 2 (train): accuracy01=0.5289 | loss=0.7117 | lr=8.940e-06 | momentum=0.9000\n",
            "2/10 * Epoch 2 (valid): accuracy01=0.5035 | loss=0.7009\n",
            "2/10 * Epoch 2 (test): accuracy01=0.5374 | loss=0.6906\n",
            "[2020-05-11 14:06:50,255] \n",
            "3/10 * Epoch 3 (_base): lr=7.368e-06 | momentum=0.9000\n",
            "3/10 * Epoch 3 (train): accuracy01=0.5407 | loss=0.7040 | lr=7.887e-06 | momentum=0.9000\n",
            "3/10 * Epoch 3 (valid): accuracy01=0.5278 | loss=0.6975\n",
            "3/10 * Epoch 3 (test): accuracy01=0.5408 | loss=0.6878\n",
            "[2020-05-11 14:06:55,206] \n",
            "4/10 * Epoch 4 (_base): lr=6.316e-06 | momentum=0.9000\n",
            "4/10 * Epoch 4 (train): accuracy01=0.5613 | loss=0.6837 | lr=6.835e-06 | momentum=0.9000\n",
            "4/10 * Epoch 4 (valid): accuracy01=0.5382 | loss=0.6895\n",
            "4/10 * Epoch 4 (test): accuracy01=0.5443 | loss=0.6872\n",
            "[2020-05-11 14:07:00,291] \n",
            "5/10 * Epoch 5 (_base): lr=5.263e-06 | momentum=0.9000\n",
            "5/10 * Epoch 5 (train): accuracy01=0.5515 | loss=0.6866 | lr=5.782e-06 | momentum=0.9000\n",
            "5/10 * Epoch 5 (valid): accuracy01=0.5417 | loss=0.6918\n",
            "5/10 * Epoch 5 (test): accuracy01=0.5461 | loss=0.6848\n",
            "[2020-05-11 14:07:05,016] \n",
            "6/10 * Epoch 6 (_base): lr=4.211e-06 | momentum=0.9000\n",
            "6/10 * Epoch 6 (train): accuracy01=0.5526 | loss=0.6858 | lr=4.729e-06 | momentum=0.9000\n",
            "6/10 * Epoch 6 (valid): accuracy01=0.5312 | loss=0.6957\n",
            "6/10 * Epoch 6 (test): accuracy01=0.5706 | loss=0.6840\n",
            "[2020-05-11 14:07:09,702] \n",
            "7/10 * Epoch 7 (_base): lr=3.158e-06 | momentum=0.9000\n",
            "7/10 * Epoch 7 (train): accuracy01=0.5682 | loss=0.6826 | lr=3.677e-06 | momentum=0.9000\n",
            "7/10 * Epoch 7 (valid): accuracy01=0.5208 | loss=0.7030\n",
            "7/10 * Epoch 7 (test): accuracy01=0.5671 | loss=0.6832\n",
            "[2020-05-11 14:07:14,267] \n",
            "8/10 * Epoch 8 (_base): lr=2.105e-06 | momentum=0.9000\n",
            "8/10 * Epoch 8 (train): accuracy01=0.5731 | loss=0.6700 | lr=2.624e-06 | momentum=0.9000\n",
            "8/10 * Epoch 8 (valid): accuracy01=0.5521 | loss=0.6866\n",
            "8/10 * Epoch 8 (test): accuracy01=0.5461 | loss=0.6817\n",
            "[2020-05-11 14:07:19,274] \n",
            "9/10 * Epoch 9 (_base): lr=1.053e-06 | momentum=0.9000\n",
            "9/10 * Epoch 9 (train): accuracy01=0.5928 | loss=0.6697 | lr=1.571e-06 | momentum=0.9000\n",
            "9/10 * Epoch 9 (valid): accuracy01=0.5486 | loss=0.6897\n",
            "9/10 * Epoch 9 (test): accuracy01=0.5514 | loss=0.6817\n",
            "[2020-05-11 14:07:23,848] \n",
            "10/10 * Epoch 10 (_base): lr=0.000e+00 | momentum=0.9000\n",
            "10/10 * Epoch 10 (train): accuracy01=0.5895 | loss=0.6697 | lr=5.188e-07 | momentum=0.9000\n",
            "10/10 * Epoch 10 (valid): accuracy01=0.5382 | loss=0.6916\n",
            "10/10 * Epoch 10 (test): accuracy01=0.5514 | loss=0.6817\n",
            "[2020-05-11 14:14:53,020] \n",
            "1/10 * Epoch 1 (_base): lr=9.474e-06 | momentum=0.9000\n",
            "1/10 * Epoch 1 (train): accuracy01=0.5373 | loss=0.7442 | lr=7.436e-06 | momentum=0.9000\n",
            "1/10 * Epoch 1 (valid): accuracy01=0.5833 | loss=0.6784\n",
            "1/10 * Epoch 1 (test): accuracy01=0.5794 | loss=0.6632\n",
            "[2020-05-11 14:15:01,944] \n",
            "2/10 * Epoch 2 (_base): lr=8.421e-06 | momentum=0.9000\n",
            "2/10 * Epoch 2 (train): accuracy01=0.5737 | loss=0.6781 | lr=8.940e-06 | momentum=0.9000\n",
            "2/10 * Epoch 2 (valid): accuracy01=0.5764 | loss=0.6733\n",
            "2/10 * Epoch 2 (test): accuracy01=0.5969 | loss=0.6543\n",
            "[2020-05-11 14:15:11,347] \n",
            "3/10 * Epoch 3 (_base): lr=7.368e-06 | momentum=0.9000\n",
            "3/10 * Epoch 3 (train): accuracy01=0.5987 | loss=0.6605 | lr=7.887e-06 | momentum=0.9000\n",
            "3/10 * Epoch 3 (valid): accuracy01=0.5868 | loss=0.6500\n",
            "3/10 * Epoch 3 (test): accuracy01=0.6055 | loss=0.6428\n",
            "[2020-05-11 14:15:20,342] \n",
            "4/10 * Epoch 4 (_base): lr=6.316e-06 | momentum=0.9000\n",
            "4/10 * Epoch 4 (train): accuracy01=0.6302 | loss=0.6444 | lr=6.835e-06 | momentum=0.9000\n",
            "4/10 * Epoch 4 (valid): accuracy01=0.6076 | loss=0.6402\n",
            "4/10 * Epoch 4 (test): accuracy01=0.6177 | loss=0.6357\n",
            "[2020-05-11 14:15:29,375] \n",
            "5/10 * Epoch 5 (_base): lr=5.263e-06 | momentum=0.9000\n",
            "5/10 * Epoch 5 (train): accuracy01=0.6350 | loss=0.6282 | lr=5.782e-06 | momentum=0.9000\n",
            "5/10 * Epoch 5 (valid): accuracy01=0.5833 | loss=0.6376\n",
            "5/10 * Epoch 5 (test): accuracy01=0.6212 | loss=0.6326\n",
            "[2020-05-11 14:15:38,275] \n",
            "6/10 * Epoch 6 (_base): lr=4.211e-06 | momentum=0.9000\n",
            "6/10 * Epoch 6 (train): accuracy01=0.6644 | loss=0.6089 | lr=4.729e-06 | momentum=0.9000\n",
            "6/10 * Epoch 6 (valid): accuracy01=0.5938 | loss=0.6411\n",
            "6/10 * Epoch 6 (test): accuracy01=0.6298 | loss=0.6297\n",
            "[2020-05-11 14:15:46,631] \n",
            "7/10 * Epoch 7 (_base): lr=3.158e-06 | momentum=0.9000\n",
            "7/10 * Epoch 7 (train): accuracy01=0.6826 | loss=0.5984 | lr=3.677e-06 | momentum=0.9000\n",
            "7/10 * Epoch 7 (valid): accuracy01=0.5972 | loss=0.6493\n",
            "7/10 * Epoch 7 (test): accuracy01=0.6333 | loss=0.6307\n",
            "[2020-05-11 14:15:54,876] \n",
            "8/10 * Epoch 8 (_base): lr=2.105e-06 | momentum=0.9000\n",
            "8/10 * Epoch 8 (train): accuracy01=0.6781 | loss=0.5930 | lr=2.624e-06 | momentum=0.9000\n",
            "8/10 * Epoch 8 (valid): accuracy01=0.6007 | loss=0.6291\n",
            "8/10 * Epoch 8 (test): accuracy01=0.6351 | loss=0.6268\n",
            "[2020-05-11 14:16:05,575] \n",
            "9/10 * Epoch 9 (_base): lr=1.053e-06 | momentum=0.9000\n",
            "9/10 * Epoch 9 (train): accuracy01=0.6882 | loss=0.5888 | lr=1.571e-06 | momentum=0.9000\n",
            "9/10 * Epoch 9 (valid): accuracy01=0.6250 | loss=0.6202\n",
            "9/10 * Epoch 9 (test): accuracy01=0.6420 | loss=0.6249\n",
            "[2020-05-11 14:16:19,305] \n",
            "10/10 * Epoch 10 (_base): lr=0.000e+00 | momentum=0.9000\n",
            "10/10 * Epoch 10 (train): accuracy01=0.6940 | loss=0.5791 | lr=5.188e-07 | momentum=0.9000\n",
            "10/10 * Epoch 10 (valid): accuracy01=0.6215 | loss=0.6257\n",
            "10/10 * Epoch 10 (test): accuracy01=0.6420 | loss=0.6256\n",
            "[2020-05-11 14:56:36,010] \n",
            "1/10 * Epoch 1 (_base): lr=9.473e-06 | momentum=0.9000\n",
            "1/10 * Epoch 1 (train): accuracy01=0.6300 | loss=0.6357 | lr=7.373e-06 | momentum=0.9000\n",
            "1/10 * Epoch 1 (valid): accuracy01=0.7711 | loss=0.4805\n",
            "1/10 * Epoch 1 (test): accuracy01=0.7333 | loss=0.5294\n",
            "[2020-05-11 14:57:36,248] \n",
            "2/10 * Epoch 2 (_base): lr=8.421e-06 | momentum=0.9000\n",
            "2/10 * Epoch 2 (train): accuracy01=0.7774 | loss=0.4673 | lr=8.947e-06 | momentum=0.9000\n",
            "2/10 * Epoch 2 (valid): accuracy01=0.8219 | loss=0.3951\n",
            "2/10 * Epoch 2 (test): accuracy01=0.7723 | loss=0.4752\n",
            "[2020-05-11 14:58:36,607] \n",
            "3/10 * Epoch 3 (_base): lr=7.368e-06 | momentum=0.9000\n",
            "3/10 * Epoch 3 (train): accuracy01=0.8165 | loss=0.4060 | lr=7.894e-06 | momentum=0.9000\n",
            "3/10 * Epoch 3 (valid): accuracy01=0.8437 | loss=0.3603\n",
            "3/10 * Epoch 3 (test): accuracy01=0.7846 | loss=0.4529\n",
            "[2020-05-11 14:59:37,323] \n",
            "4/10 * Epoch 4 (_base): lr=6.316e-06 | momentum=0.9000\n",
            "4/10 * Epoch 4 (train): accuracy01=0.8335 | loss=0.3747 | lr=6.842e-06 | momentum=0.9000\n",
            "4/10 * Epoch 4 (valid): accuracy01=0.8543 | loss=0.3386\n",
            "4/10 * Epoch 4 (test): accuracy01=0.7868 | loss=0.4467\n",
            "[2020-05-11 15:00:39,257] \n",
            "5/10 * Epoch 5 (_base): lr=5.263e-06 | momentum=0.9000\n",
            "5/10 * Epoch 5 (train): accuracy01=0.8476 | loss=0.3511 | lr=5.789e-06 | momentum=0.9000\n",
            "5/10 * Epoch 5 (valid): accuracy01=0.8618 | loss=0.3238\n",
            "5/10 * Epoch 5 (test): accuracy01=0.7924 | loss=0.4440\n",
            "[2020-05-11 15:01:39,976] \n",
            "6/10 * Epoch 6 (_base): lr=4.210e-06 | momentum=0.9000\n",
            "6/10 * Epoch 6 (train): accuracy01=0.8579 | loss=0.3324 | lr=4.736e-06 | momentum=0.9000\n",
            "6/10 * Epoch 6 (valid): accuracy01=0.8673 | loss=0.3168\n",
            "6/10 * Epoch 6 (test): accuracy01=0.7946 | loss=0.4425\n",
            "[2020-05-11 15:02:41,760] \n",
            "7/10 * Epoch 7 (_base): lr=3.158e-06 | momentum=0.9000\n",
            "7/10 * Epoch 7 (train): accuracy01=0.8620 | loss=0.3213 | lr=3.684e-06 | momentum=0.9000\n",
            "7/10 * Epoch 7 (valid): accuracy01=0.8713 | loss=0.3070\n",
            "7/10 * Epoch 7 (test): accuracy01=0.8047 | loss=0.4418\n",
            "[2020-05-11 15:03:41,775] \n",
            "8/10 * Epoch 8 (_base): lr=2.105e-06 | momentum=0.9000\n",
            "8/10 * Epoch 8 (train): accuracy01=0.8669 | loss=0.3131 | lr=2.631e-06 | momentum=0.9000\n",
            "8/10 * Epoch 8 (valid): accuracy01=0.8713 | loss=0.3024\n",
            "8/10 * Epoch 8 (test): accuracy01=0.8013 | loss=0.4477\n",
            "[2020-05-11 15:04:42,215] \n",
            "9/10 * Epoch 9 (_base): lr=1.053e-06 | momentum=0.9000\n",
            "9/10 * Epoch 9 (train): accuracy01=0.8705 | loss=0.3061 | lr=1.579e-06 | momentum=0.9000\n",
            "9/10 * Epoch 9 (valid): accuracy01=0.8750 | loss=0.2993\n",
            "9/10 * Epoch 9 (test): accuracy01=0.8025 | loss=0.4438\n",
            "[2020-05-11 15:05:43,134] \n",
            "10/10 * Epoch 10 (_base): lr=0.000e+00 | momentum=0.9000\n",
            "10/10 * Epoch 10 (train): accuracy01=0.8730 | loss=0.3012 | lr=5.259e-07 | momentum=0.9000\n",
            "10/10 * Epoch 10 (valid): accuracy01=0.8752 | loss=0.2987\n",
            "10/10 * Epoch 10 (test): accuracy01=0.8025 | loss=0.4447\n",
            "[2020-05-11 15:12:58,683] \n",
            "1/10 * Epoch 1 (_base): lr=9.473e-06 | momentum=0.9000\n",
            "1/10 * Epoch 1 (train): accuracy01=0.6769 | loss=0.5769 | lr=7.373e-06 | momentum=0.9000\n",
            "1/10 * Epoch 1 (valid): accuracy01=0.8208 | loss=0.4025\n",
            "1/10 * Epoch 1 (test): accuracy01=0.7812 | loss=0.4483\n",
            "[2020-05-11 15:14:33,562] \n",
            "2/10 * Epoch 2 (_base): lr=8.421e-06 | momentum=0.9000\n",
            "2/10 * Epoch 2 (train): accuracy01=0.8239 | loss=0.3923 | lr=8.947e-06 | momentum=0.9000\n",
            "2/10 * Epoch 2 (valid): accuracy01=0.8549 | loss=0.3354\n",
            "2/10 * Epoch 2 (test): accuracy01=0.7924 | loss=0.4215\n",
            "[2020-05-11 15:16:08,190] \n",
            "3/10 * Epoch 3 (_base): lr=7.368e-06 | momentum=0.9000\n",
            "3/10 * Epoch 3 (train): accuracy01=0.8552 | loss=0.3373 | lr=7.894e-06 | momentum=0.9000\n",
            "3/10 * Epoch 3 (valid): accuracy01=0.8697 | loss=0.3078\n",
            "3/10 * Epoch 3 (test): accuracy01=0.8036 | loss=0.4004\n",
            "[2020-05-11 15:17:42,302] \n",
            "4/10 * Epoch 4 (_base): lr=6.316e-06 | momentum=0.9000\n",
            "4/10 * Epoch 4 (train): accuracy01=0.8709 | loss=0.3047 | lr=6.842e-06 | momentum=0.9000\n",
            "4/10 * Epoch 4 (valid): accuracy01=0.8804 | loss=0.2879\n",
            "4/10 * Epoch 4 (test): accuracy01=0.8147 | loss=0.3987\n",
            "[2020-05-11 15:19:16,879] \n",
            "5/10 * Epoch 5 (_base): lr=5.263e-06 | momentum=0.9000\n",
            "5/10 * Epoch 5 (train): accuracy01=0.8823 | loss=0.2831 | lr=5.789e-06 | momentum=0.9000\n",
            "5/10 * Epoch 5 (valid): accuracy01=0.8861 | loss=0.2755\n",
            "5/10 * Epoch 5 (test): accuracy01=0.8315 | loss=0.4065\n",
            "[2020-05-11 15:20:52,423] \n",
            "6/10 * Epoch 6 (_base): lr=4.210e-06 | momentum=0.9000\n",
            "6/10 * Epoch 6 (train): accuracy01=0.8909 | loss=0.2642 | lr=4.736e-06 | momentum=0.9000\n",
            "6/10 * Epoch 6 (valid): accuracy01=0.8906 | loss=0.2699\n",
            "6/10 * Epoch 6 (test): accuracy01=0.8371 | loss=0.4022\n",
            "[2020-05-11 15:22:28,199] \n",
            "7/10 * Epoch 7 (_base): lr=3.158e-06 | momentum=0.9000\n",
            "7/10 * Epoch 7 (train): accuracy01=0.8983 | loss=0.2522 | lr=3.684e-06 | momentum=0.9000\n",
            "7/10 * Epoch 7 (valid): accuracy01=0.8949 | loss=0.2626\n",
            "7/10 * Epoch 7 (test): accuracy01=0.8382 | loss=0.4025\n",
            "[2020-05-11 15:24:03,968] \n",
            "8/10 * Epoch 8 (_base): lr=2.105e-06 | momentum=0.9000\n",
            "8/10 * Epoch 8 (train): accuracy01=0.9016 | loss=0.2442 | lr=2.631e-06 | momentum=0.9000\n",
            "8/10 * Epoch 8 (valid): accuracy01=0.8964 | loss=0.2582\n",
            "8/10 * Epoch 8 (test): accuracy01=0.8359 | loss=0.4085\n",
            "[2020-05-11 15:25:39,452] \n",
            "9/10 * Epoch 9 (_base): lr=1.053e-06 | momentum=0.9000\n",
            "9/10 * Epoch 9 (train): accuracy01=0.9037 | loss=0.2376 | lr=1.579e-06 | momentum=0.9000\n",
            "9/10 * Epoch 9 (valid): accuracy01=0.8983 | loss=0.2562\n",
            "9/10 * Epoch 9 (test): accuracy01=0.8426 | loss=0.4062\n",
            "[2020-05-11 15:27:15,336] \n",
            "10/10 * Epoch 10 (_base): lr=0.000e+00 | momentum=0.9000\n",
            "10/10 * Epoch 10 (train): accuracy01=0.9058 | loss=0.2327 | lr=5.259e-07 | momentum=0.9000\n",
            "10/10 * Epoch 10 (valid): accuracy01=0.8980 | loss=0.2560\n",
            "10/10 * Epoch 10 (test): accuracy01=0.8460 | loss=0.4066\n",
            "[2020-05-11 15:33:02,438] \n",
            "1/10 * Epoch 1 (_base): lr=9.473e-06 | momentum=0.9000\n",
            "1/10 * Epoch 1 (train): accuracy01=0.6561 | loss=0.6082 | lr=7.373e-06 | momentum=0.9000\n",
            "1/10 * Epoch 1 (valid): accuracy01=0.7910 | loss=0.4462\n",
            "1/10 * Epoch 1 (test): accuracy01=0.7600 | loss=0.4924\n",
            "[2020-05-11 15:34:40,090] \n",
            "2/10 * Epoch 2 (_base): lr=8.421e-06 | momentum=0.9000\n",
            "2/10 * Epoch 2 (train): accuracy01=0.7929 | loss=0.4425 | lr=8.947e-06 | momentum=0.9000\n",
            "2/10 * Epoch 2 (valid): accuracy01=0.8276 | loss=0.3862\n",
            "2/10 * Epoch 2 (test): accuracy01=0.7812 | loss=0.4631\n",
            "[2020-05-11 15:36:17,908] \n",
            "3/10 * Epoch 3 (_base): lr=7.368e-06 | momentum=0.9000\n",
            "3/10 * Epoch 3 (train): accuracy01=0.8206 | loss=0.3977 | lr=7.894e-06 | momentum=0.9000\n",
            "3/10 * Epoch 3 (valid): accuracy01=0.8418 | loss=0.3599\n",
            "3/10 * Epoch 3 (test): accuracy01=0.7969 | loss=0.4433\n",
            "[2020-05-11 15:37:55,872] \n",
            "4/10 * Epoch 4 (_base): lr=6.316e-06 | momentum=0.9000\n",
            "4/10 * Epoch 4 (train): accuracy01=0.8396 | loss=0.3637 | lr=6.842e-06 | momentum=0.9000\n",
            "4/10 * Epoch 4 (valid): accuracy01=0.8546 | loss=0.3390\n",
            "4/10 * Epoch 4 (test): accuracy01=0.8013 | loss=0.4478\n",
            "[2020-05-11 15:39:33,779] \n",
            "5/10 * Epoch 5 (_base): lr=5.263e-06 | momentum=0.9000\n",
            "5/10 * Epoch 5 (train): accuracy01=0.8528 | loss=0.3417 | lr=5.789e-06 | momentum=0.9000\n",
            "5/10 * Epoch 5 (valid): accuracy01=0.8628 | loss=0.3249\n",
            "5/10 * Epoch 5 (test): accuracy01=0.8125 | loss=0.4434\n",
            "[2020-05-11 15:41:11,786] \n",
            "6/10 * Epoch 6 (_base): lr=4.210e-06 | momentum=0.9000\n",
            "6/10 * Epoch 6 (train): accuracy01=0.8600 | loss=0.3258 | lr=4.736e-06 | momentum=0.9000\n",
            "6/10 * Epoch 6 (valid): accuracy01=0.8645 | loss=0.3180\n",
            "6/10 * Epoch 6 (test): accuracy01=0.8147 | loss=0.4374\n",
            "[2020-05-11 15:42:49,357] \n",
            "7/10 * Epoch 7 (_base): lr=3.158e-06 | momentum=0.9000\n",
            "7/10 * Epoch 7 (train): accuracy01=0.8683 | loss=0.3131 | lr=3.684e-06 | momentum=0.9000\n",
            "7/10 * Epoch 7 (valid): accuracy01=0.8723 | loss=0.3089\n",
            "7/10 * Epoch 7 (test): accuracy01=0.8147 | loss=0.4414\n",
            "[2020-05-11 15:44:27,060] \n",
            "8/10 * Epoch 8 (_base): lr=2.105e-06 | momentum=0.9000\n",
            "8/10 * Epoch 8 (train): accuracy01=0.8721 | loss=0.3020 | lr=2.631e-06 | momentum=0.9000\n",
            "8/10 * Epoch 8 (valid): accuracy01=0.8741 | loss=0.3031\n",
            "8/10 * Epoch 8 (test): accuracy01=0.8214 | loss=0.4406\n",
            "[2020-05-11 15:46:04,600] \n",
            "9/10 * Epoch 9 (_base): lr=1.053e-06 | momentum=0.9000\n",
            "9/10 * Epoch 9 (train): accuracy01=0.8743 | loss=0.2987 | lr=1.579e-06 | momentum=0.9000\n",
            "9/10 * Epoch 9 (valid): accuracy01=0.8754 | loss=0.3004\n",
            "9/10 * Epoch 9 (test): accuracy01=0.8214 | loss=0.4379\n",
            "[2020-05-11 15:47:42,641] \n",
            "10/10 * Epoch 10 (_base): lr=0.000e+00 | momentum=0.9000\n",
            "10/10 * Epoch 10 (train): accuracy01=0.8748 | loss=0.2959 | lr=5.259e-07 | momentum=0.9000\n",
            "10/10 * Epoch 10 (valid): accuracy01=0.8762 | loss=0.2995\n",
            "10/10 * Epoch 10 (test): accuracy01=0.8248 | loss=0.4387\n",
            "[2020-05-11 15:52:33,851] \n",
            "1/10 * Epoch 1 (_base): lr=9.473e-06 | momentum=0.9000\n",
            "1/10 * Epoch 1 (train): accuracy01=0.7064 | loss=0.5408 | lr=7.373e-06 | momentum=0.9000\n",
            "1/10 * Epoch 1 (valid): accuracy01=0.8380 | loss=0.3687\n",
            "1/10 * Epoch 1 (test): accuracy01=0.7913 | loss=0.4283\n",
            "[2020-05-11 15:55:23,554] \n",
            "2/10 * Epoch 2 (_base): lr=8.421e-06 | momentum=0.9000\n",
            "2/10 * Epoch 2 (train): accuracy01=0.8434 | loss=0.3586 | lr=8.947e-06 | momentum=0.9000\n",
            "2/10 * Epoch 2 (valid): accuracy01=0.8705 | loss=0.3072\n",
            "2/10 * Epoch 2 (test): accuracy01=0.8304 | loss=0.4082\n",
            "[2020-05-11 15:58:12,536] \n",
            "3/10 * Epoch 3 (_base): lr=7.368e-06 | momentum=0.9000\n",
            "3/10 * Epoch 3 (train): accuracy01=0.8744 | loss=0.3014 | lr=7.894e-06 | momentum=0.9000\n",
            "3/10 * Epoch 3 (valid): accuracy01=0.8833 | loss=0.2806\n",
            "3/10 * Epoch 3 (test): accuracy01=0.8415 | loss=0.3829\n",
            "[2020-05-11 16:01:01,190] \n",
            "4/10 * Epoch 4 (_base): lr=6.316e-06 | momentum=0.9000\n",
            "4/10 * Epoch 4 (train): accuracy01=0.8899 | loss=0.2682 | lr=6.842e-06 | momentum=0.9000\n",
            "4/10 * Epoch 4 (valid): accuracy01=0.8951 | loss=0.2594\n",
            "4/10 * Epoch 4 (test): accuracy01=0.8359 | loss=0.3828\n",
            "[2020-05-11 16:03:49,918] \n",
            "5/10 * Epoch 5 (_base): lr=5.263e-06 | momentum=0.9000\n",
            "5/10 * Epoch 5 (train): accuracy01=0.9018 | loss=0.2437 | lr=5.789e-06 | momentum=0.9000\n",
            "5/10 * Epoch 5 (valid): accuracy01=0.8990 | loss=0.2501\n",
            "5/10 * Epoch 5 (test): accuracy01=0.8404 | loss=0.3920\n",
            "[2020-05-11 16:06:38,835] \n",
            "6/10 * Epoch 6 (_base): lr=4.210e-06 | momentum=0.9000\n",
            "6/10 * Epoch 6 (train): accuracy01=0.9087 | loss=0.2273 | lr=4.736e-06 | momentum=0.9000\n",
            "6/10 * Epoch 6 (valid): accuracy01=0.9050 | loss=0.2400\n",
            "6/10 * Epoch 6 (test): accuracy01=0.8538 | loss=0.3854\n",
            "[2020-05-11 16:09:27,325] \n",
            "7/10 * Epoch 7 (_base): lr=3.158e-06 | momentum=0.9000\n",
            "7/10 * Epoch 7 (train): accuracy01=0.9151 | loss=0.2143 | lr=3.684e-06 | momentum=0.9000\n",
            "7/10 * Epoch 7 (valid): accuracy01=0.9065 | loss=0.2407\n",
            "7/10 * Epoch 7 (test): accuracy01=0.8404 | loss=0.4136\n",
            "[2020-05-11 16:12:15,352] \n",
            "8/10 * Epoch 8 (_base): lr=2.105e-06 | momentum=0.9000\n",
            "8/10 * Epoch 8 (train): accuracy01=0.9197 | loss=0.2034 | lr=2.631e-06 | momentum=0.9000\n",
            "8/10 * Epoch 8 (valid): accuracy01=0.9103 | loss=0.2316\n",
            "8/10 * Epoch 8 (test): accuracy01=0.8482 | loss=0.3968\n",
            "[2020-05-11 16:15:02,956] \n",
            "9/10 * Epoch 9 (_base): lr=1.053e-06 | momentum=0.9000\n",
            "9/10 * Epoch 9 (train): accuracy01=0.9224 | loss=0.1980 | lr=1.579e-06 | momentum=0.9000\n",
            "9/10 * Epoch 9 (valid): accuracy01=0.9117 | loss=0.2312\n",
            "9/10 * Epoch 9 (test): accuracy01=0.8493 | loss=0.4027\n",
            "[2020-05-11 16:17:50,502] \n",
            "10/10 * Epoch 10 (_base): lr=0.000e+00 | momentum=0.9000\n",
            "10/10 * Epoch 10 (train): accuracy01=0.9246 | loss=0.1938 | lr=5.259e-07 | momentum=0.9000\n",
            "10/10 * Epoch 10 (valid): accuracy01=0.9117 | loss=0.2310\n",
            "10/10 * Epoch 10 (test): accuracy01=0.8493 | loss=0.4052\n"
          ],
          "name": "stdout"
        }
      ]
    },
    {
      "cell_type": "markdown",
      "metadata": {
        "id": "ViZwMS2pIkBv",
        "colab_type": "text"
      },
      "source": [
        "Ииии отчет!\n",
        "\n",
        "Напиши внизу небольшой отчет о проделанной работе. Ожидается сравнение результатов модели с разным количеством голов/слоев на разных датасетах на `test`. Если для оценки качества на датасете используется необычная метрика(не Accuracy или F1), то можно использовать один из них. Было бы круто, если бы вычислялась нужная метрика и она использовалась в отчете.\n",
        "\n",
        "<ТВОЙ ОТЧЕТ>\n",
        "\n",
        "Очевидно (датафрейм с результатами - в самой нижней ячейке), что на качество обучения влияет и количество слоёв, и количество голов. При этом, рост количества голов улучшает результаты сильней, чем рост количества слоёв.\n",
        "\n",
        "Сами по себе результаты получились примерно те же, что и на huggingface.co\n",
        "![изображение.png](data:image/png;base64,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)\n",
        "\n",
        "Я слегка затянул с выполнением этого задания, потому не попробовал другие задачи, модели и параметры. Например, похоже, что 10 - многовато для обучения. Но в учебных целях, мне кажется, выполненного достаточно.\n",
        "\n",
        "</ТВОЙ ОТЧЕТ>"
      ]
    },
    {
      "cell_type": "code",
      "metadata": {
        "id": "n3PbkgpXbd3j",
        "colab_type": "code",
        "colab": {}
      },
      "source": [
        "data = {'google/bert_uncased': ['L-2_H-128_A-2', 'L-2_H-256_A-4', 'L-4_H-128_A-2', 'L-4_H-256_A-4'],\n",
        "        'RTE_loss': [0.6879, 0.6971, 0.6817, 0.6256],\n",
        "        'RTE_accuracy': [0.5531, 0.5392, 0.5514, 0.6420],\n",
        "        'SST-2_loss': [0.4447, 0.4066, 0.4387, 0.4052,],\n",
        "        'SST-2_accuracy': [0.8025, 0.8460, 0.8248, 0.8493],\n",
        "        }\n",
        "        "
      ],
      "execution_count": 0,
      "outputs": []
    },
    {
      "cell_type": "code",
      "metadata": {
        "id": "bjVjSHyQjEcr",
        "colab_type": "code",
        "outputId": "9347a481-4d00-4a8f-8c91-3d212767eae7",
        "colab": {
          "base_uri": "https://localhost:8080/",
          "height": 206
        }
      },
      "source": [
        "pd.DataFrame(data).set_index('google/bert_uncased')\n"
      ],
      "execution_count": 3,
      "outputs": [
        {
          "output_type": "execute_result",
          "data": {
            "text/html": [
              "<div>\n",
              "<style scoped>\n",
              "    .dataframe tbody tr th:only-of-type {\n",
              "        vertical-align: middle;\n",
              "    }\n",
              "\n",
              "    .dataframe tbody tr th {\n",
              "        vertical-align: top;\n",
              "    }\n",
              "\n",
              "    .dataframe thead th {\n",
              "        text-align: right;\n",
              "    }\n",
              "</style>\n",
              "<table border=\"1\" class=\"dataframe\">\n",
              "  <thead>\n",
              "    <tr style=\"text-align: right;\">\n",
              "      <th></th>\n",
              "      <th>RTE_loss</th>\n",
              "      <th>RTE_accuracy</th>\n",
              "      <th>SST-2_loss</th>\n",
              "      <th>SST-2_accuracy</th>\n",
              "    </tr>\n",
              "    <tr>\n",
              "      <th>google/bert_uncased</th>\n",
              "      <th></th>\n",
              "      <th></th>\n",
              "      <th></th>\n",
              "      <th></th>\n",
              "    </tr>\n",
              "  </thead>\n",
              "  <tbody>\n",
              "    <tr>\n",
              "      <th>L-2_H-128_A-2</th>\n",
              "      <td>0.6879</td>\n",
              "      <td>0.5531</td>\n",
              "      <td>0.4447</td>\n",
              "      <td>0.8025</td>\n",
              "    </tr>\n",
              "    <tr>\n",
              "      <th>L-2_H-256_A-4</th>\n",
              "      <td>0.6971</td>\n",
              "      <td>0.5392</td>\n",
              "      <td>0.4066</td>\n",
              "      <td>0.8460</td>\n",
              "    </tr>\n",
              "    <tr>\n",
              "      <th>L-4_H-128_A-2</th>\n",
              "      <td>0.6817</td>\n",
              "      <td>0.5514</td>\n",
              "      <td>0.4387</td>\n",
              "      <td>0.8248</td>\n",
              "    </tr>\n",
              "    <tr>\n",
              "      <th>L-4_H-256_A-4</th>\n",
              "      <td>0.6256</td>\n",
              "      <td>0.6420</td>\n",
              "      <td>0.4052</td>\n",
              "      <td>0.8493</td>\n",
              "    </tr>\n",
              "  </tbody>\n",
              "</table>\n",
              "</div>"
            ],
            "text/plain": [
              "                     RTE_loss  RTE_accuracy  SST-2_loss  SST-2_accuracy\n",
              "google/bert_uncased                                                    \n",
              "L-2_H-128_A-2          0.6879        0.5531      0.4447          0.8025\n",
              "L-2_H-256_A-4          0.6971        0.5392      0.4066          0.8460\n",
              "L-4_H-128_A-2          0.6817        0.5514      0.4387          0.8248\n",
              "L-4_H-256_A-4          0.6256        0.6420      0.4052          0.8493"
            ]
          },
          "metadata": {
            "tags": []
          },
          "execution_count": 3
        }
      ]
    }
  ]
}